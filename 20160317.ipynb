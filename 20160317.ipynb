{
 "cells": [
  {
   "cell_type": "markdown",
   "metadata": {},
   "source": [
    "# Logfile Summary 16.03.2017  - test\n",
    "\n",
    "Here I summarize the interesting/suspicius/special logs, I found in tonights logfile. \n",
    "Maybe something similar can be part of a future auto shift summary. \n",
    "\n",
    "Tonight I will show less messages very verbosely and instead count them only **if** we have already seen them yesterday and *I decided* they are not very interesting... (Maybe not the best approach, but a start)\n"
   ]
  },
  {
   "cell_type": "code",
   "execution_count": 1,
   "metadata": {
    "collapsed": true
   },
   "outputs": [],
   "source": [
    "import numpy as np\n",
    "import pandas as pd\n",
    "import matplotlib.pyplot as plt\n",
    "%matplotlib inline\n",
    "import logfile_parser\n",
    "\n",
    "plt.rcParams[\"figure.figsize\"] = (14, 4)\n",
    "plt.rcParams[\"font.size\"] = 14\n",
    "plt.rcParams[\"figure.dpi\"] = 120"
   ]
  },
  {
   "cell_type": "markdown",
   "metadata": {},
   "source": [
    "Lets open the logfile and and see how many warnings and errors we've got tonight. We can assume errors and warnings are more imporant than infos and unmarked logs."
   ]
  },
  {
   "cell_type": "code",
   "execution_count": 2,
   "metadata": {
    "collapsed": false
   },
   "outputs": [
    {
     "data": {
      "text/plain": [
       "-    70821\n",
       "I    26488\n",
       "#      912\n",
       "W       46\n",
       "E       12\n",
       "dtype: int64"
      ]
     },
     "execution_count": 2,
     "metadata": {},
     "output_type": "execute_result"
    }
   ],
   "source": [
    "logs = logfile_parser.logfile2dataframe(\"20160317.log\")\n",
    "logs.severity.value_counts()"
   ]
  },
  {
   "cell_type": "markdown",
   "metadata": {},
   "source": [
    "## Errors"
   ]
  },
  {
   "cell_type": "code",
   "execution_count": 3,
   "metadata": {
    "collapsed": false
   },
   "outputs": [
    {
     "data": {
      "text/html": [
       "<div>\n",
       "<table border=\"1\" class=\"dataframe\">\n",
       "  <thead>\n",
       "    <tr style=\"text-align: right;\">\n",
       "      <th></th>\n",
       "      <th></th>\n",
       "      <th>message</th>\n",
       "    </tr>\n",
       "    <tr>\n",
       "      <th>time</th>\n",
       "      <th>server</th>\n",
       "      <th></th>\n",
       "    </tr>\n",
       "  </thead>\n",
       "  <tbody>\n",
       "    <tr>\n",
       "      <th>2016-03-18 02:51:49.877</th>\n",
       "      <th>FSC_CONTROL</th>\n",
       "      <td>Reading from 10.0.128.127:5000: Connection res...</td>\n",
       "    </tr>\n",
       "    <tr>\n",
       "      <th rowspan=\"3\" valign=\"top\">2016-03-18 02:53:16.361</th>\n",
       "      <th>DIM_CONTROL</th>\n",
       "      <td>| scripts/Main.js: l.973: Error: Something une...</td>\n",
       "    </tr>\n",
       "    <tr>\n",
       "      <th>DIM_CONTROL</th>\n",
       "      <td>|         throw new Error(\"Something unexpecte...</td>\n",
       "    </tr>\n",
       "    <tr>\n",
       "      <th>DIM_CONTROL</th>\n",
       "      <td>|               ^</td>\n",
       "    </tr>\n",
       "    <tr>\n",
       "      <th rowspan=\"4\" valign=\"top\">2016-03-18 02:53:16.365</th>\n",
       "      <th>DIM_CONTROL</th>\n",
       "      <td>|</td>\n",
       "    </tr>\n",
       "    <tr>\n",
       "      <th>DIM_CONTROL</th>\n",
       "      <td>| Error: Something unexpected has happened. On...</td>\n",
       "    </tr>\n",
       "    <tr>\n",
       "      <th>DIM_CONTROL</th>\n",
       "      <td>|     at scripts/Main.js:973:15</td>\n",
       "    </tr>\n",
       "    <tr>\n",
       "      <th>DIM_CONTROL</th>\n",
       "      <td>|     at main:1:1</td>\n",
       "    </tr>\n",
       "    <tr>\n",
       "      <th>2016-03-18 06:20:07.425</th>\n",
       "      <th>DRIVE_CONTROL</th>\n",
       "      <td>IndraDrive Az [f2026]: Undervoltage in power s...</td>\n",
       "    </tr>\n",
       "    <tr>\n",
       "      <th>2016-03-18 06:20:07.435</th>\n",
       "      <th>DRIVE_CONTROL</th>\n",
       "      <td>IndraDrive Zd [f2026]: Undervoltage in power s...</td>\n",
       "    </tr>\n",
       "    <tr>\n",
       "      <th>2016-03-18 06:20:07.495</th>\n",
       "      <th>DRIVE_CONTROL</th>\n",
       "      <td>IndraDrive Zd [f8070]: 24V DC error!</td>\n",
       "    </tr>\n",
       "    <tr>\n",
       "      <th>2016-03-18 06:25:08.213</th>\n",
       "      <th>DRIVE_CONTROL</th>\n",
       "      <td>Reading from sps:5357: Connection timed out (s...</td>\n",
       "    </tr>\n",
       "  </tbody>\n",
       "</table>\n",
       "</div>"
      ],
      "text/plain": [
       "                                                                                 message\n",
       "time                    server                                                          \n",
       "2016-03-18 02:51:49.877 FSC_CONTROL    Reading from 10.0.128.127:5000: Connection res...\n",
       "2016-03-18 02:53:16.361 DIM_CONTROL    | scripts/Main.js: l.973: Error: Something une...\n",
       "                        DIM_CONTROL    |         throw new Error(\"Something unexpecte...\n",
       "                        DIM_CONTROL                                    |               ^\n",
       "2016-03-18 02:53:16.365 DIM_CONTROL                                                    |\n",
       "                        DIM_CONTROL    | Error: Something unexpected has happened. On...\n",
       "                        DIM_CONTROL                      |     at scripts/Main.js:973:15\n",
       "                        DIM_CONTROL                                    |     at main:1:1\n",
       "2016-03-18 06:20:07.425 DRIVE_CONTROL  IndraDrive Az [f2026]: Undervoltage in power s...\n",
       "2016-03-18 06:20:07.435 DRIVE_CONTROL  IndraDrive Zd [f2026]: Undervoltage in power s...\n",
       "2016-03-18 06:20:07.495 DRIVE_CONTROL               IndraDrive Zd [f8070]: 24V DC error!\n",
       "2016-03-18 06:25:08.213 DRIVE_CONTROL  Reading from sps:5357: Connection timed out (s..."
      ]
     },
     "execution_count": 3,
     "metadata": {},
     "output_type": "execute_result"
    }
   ],
   "source": [
    "error_log = logs[logs.severity == \"E\"][[\"server\", \"message\"]]\n",
    "error_log.set_index(\"server\", append=True, inplace=True)\n",
    "error_log"
   ]
  },
  {
   "cell_type": "markdown",
   "metadata": {},
   "source": [
    "* Around 2:52h the FSC was making problems again and Main.js threw an exception. \n",
    "    * Btw. the *shifthelper* called me nicely but I was in the kitchen and needed some time to restart Main.js ...) \n",
    "\n",
    "* In the morning the typical \"morning error\" of the drive. \n",
    "    * Need to find a nice way to filter these errors from the other errors"
   ]
  },
  {
   "cell_type": "markdown",
   "metadata": {},
   "source": [
    "## Warnings"
   ]
  },
  {
   "cell_type": "code",
   "execution_count": 4,
   "metadata": {
    "collapsed": false
   },
   "outputs": [],
   "source": [
    "warnings = logs[logs.severity == \"W\"]"
   ]
  },
  {
   "cell_type": "code",
   "execution_count": 5,
   "metadata": {
    "collapsed": false
   },
   "outputs": [
    {
     "data": {
      "text/plain": [
       "<matplotlib.axes._subplots.AxesSubplot at 0x7fbdc549b7f0>"
      ]
     },
     "execution_count": 5,
     "metadata": {},
     "output_type": "execute_result"
    },
    {
     "data": {
      "image/png": "[encoded data removed]",
      "text/plain": [
       "<matplotlib.figure.Figure at 0x7fbdc6f5c550>"
      ]
     },
     "metadata": {},
     "output_type": "display_data"
    }
   ],
   "source": [
    "warnings.server.value_counts().plot.bar()"
   ]
  },
  {
   "cell_type": "markdown",
   "metadata": {},
   "source": [
    "Lets start from left to right."
   ]
  },
  {
   "cell_type": "code",
   "execution_count": 6,
   "metadata": {
    "collapsed": false
   },
   "outputs": [
    {
     "data": {
      "text/plain": [
       "SET_SELECTED_THRESHOLDS: Not allowed in state Valid[4]... ignored.    10\n",
       "STOP_TRIGGER: Not allowed in state Valid[4]... ignored.                2\n",
       "Name: message, dtype: int64"
      ]
     },
     "execution_count": 6,
     "metadata": {},
     "output_type": "execute_result"
    }
   ],
   "source": [
    "warnings.query(\"server == 'FTM_CONTROL'\").message.value_counts()"
   ]
  },
  {
   "cell_type": "markdown",
   "metadata": {},
   "source": [
    "You remember yesterday? FTM_CONTROL was only telling us, that somehow the command \"SET_SELECTED_THRESHOLDS\" was sent at inappropriate times. Today we also get \"STOP_TRIGGER\" was sent at inappropriate times."
   ]
  },
  {
   "cell_type": "code",
   "execution_count": 7,
   "metadata": {
    "collapsed": false
   },
   "outputs": [
    {
     "data": {
      "text/plain": [
       "Checksum error    10\n",
       "Connecting to      1\n",
       "Name: message, dtype: int64"
      ]
     },
     "execution_count": 7,
     "metadata": {},
     "output_type": "execute_result"
    }
   ],
   "source": [
    "warnings.query(\"server == 'FSC_CONTROL'\").message.str.slice(0, 14).value_counts()"
   ]
  },
  {
   "cell_type": "markdown",
   "metadata": {},
   "source": [
    "So we get the typical Checksum errors, and once we lost the connection entirely. Which lead to the need to restart Main.js. We have already seen that in the errors. (In case you wonder, why I slice the messages before counting them. The *Checksum error* messages contain details about what exactly did not work. So if I counted the entire message, each message would be different."
   ]
  },
  {
   "cell_type": "code",
   "execution_count": 8,
   "metadata": {
    "collapsed": false
   },
   "outputs": [
    {
     "data": {
      "text/plain": [
       "Parsing of JSON failed: <unspecified file>(1): expected ',' or '}'    8\n",
       "Name: message, dtype: int64"
      ]
     },
     "execution_count": 8,
     "metadata": {},
     "output_type": "execute_result"
    }
   ],
   "source": [
    "warnings.query(\"server == 'TEMPERATURE'\").message.value_counts()"
   ]
  },
  {
   "cell_type": "markdown",
   "metadata": {},
   "source": [
    "Nothing new ... our friend TEMPERATURE has the same problems today as it had yesterday."
   ]
  },
  {
   "cell_type": "code",
   "execution_count": 9,
   "metadata": {
    "collapsed": false
   },
   "outputs": [
    {
     "data": {
      "text/plain": [
       "Could not reset DRS calibration of secondary baseline.    7\n",
       "Name: message, dtype: int64"
      ]
     },
     "execution_count": 9,
     "metadata": {},
     "output_type": "execute_result"
    }
   ],
   "source": [
    "warnings.query(\"server == 'FAD_CONTROL'\").message.value_counts()"
   ]
  },
  {
   "cell_type": "markdown",
   "metadata": {},
   "source": [
    "Did we see that yesterday as well? I must have overlooked it. To much information, clearly shows the need for a concise summary. I hope you agree. Well lets have a look at *when* this happened.\n"
   ]
  },
  {
   "cell_type": "code",
   "execution_count": 10,
   "metadata": {
    "collapsed": false
   },
   "outputs": [
    {
     "data": {
      "text/plain": [
       "DatetimeIndex(['2016-03-17 21:23:43.621000', '2016-03-17 22:48:41.317000',\n",
       "               '2016-03-18 00:13:54.582000', '2016-03-18 01:39:43.698000',\n",
       "               '2016-03-18 02:59:44.342000', '2016-03-18 04:30:43.894000',\n",
       "               '2016-03-18 05:55:44.252000'],\n",
       "              dtype='datetime64[ns]', name='time', freq=None)"
      ]
     },
     "execution_count": 10,
     "metadata": {},
     "output_type": "execute_result"
    }
   ],
   "source": [
    "warnings.query(\"server == 'FAD_CONTROL'\").index"
   ]
  },
  {
   "cell_type": "markdown",
   "metadata": {},
   "source": [
    "If you have a look at [todays Run DB](http://fact-project.org/run_db/db/fact_runinfo.php?fRunTypeName=On&fRunTypeKEY=0&fSourceName=On&fSourceKEY=0&fRunStart=On&TimeDiff%28fRunStop%2CfRunStart%29=On&fROI=On&if%28fHasDrsFile%3D0%2C%22N%22%2CfDrsStep%29=On&fStartDate=20160317&fStopDate=20160317&fNumResults=500&fSortBy=Run+) and compare the times, you can see, that these warnings occur shortly before the 3rd run of a group of DRS4 calibration runs. \n",
    "\n",
    "If you think back a few month, the DRS4 **amplitude** calibration run group consisted of 4 runs with these rois:\n",
    " * 1024\n",
    " * 1024\n",
    " * 1024\n",
    " * 300\n",
    " \n",
    "Both the 3rd and the 4th calibrate the same thing the *TriggerOffset* aka *secondary baseline*. So between the 3rd and the 4th run, this *secondary baseline* was reset. Nowadays we usually skip (not at the beginning of the night) the 3rd run. And so we do not need to reset the *secondary baseline* anymore. Somehow the command to reset *secondary baseline* must have survived in the code of Main.js and is issued even though there is no need for it.\n",
    "\n",
    "So we learned something today. Experts please see if you don't want to remove this command where it is not needed."
   ]
  },
  {
   "cell_type": "code",
   "execution_count": 11,
   "metadata": {
    "collapsed": false
   },
   "outputs": [
    {
     "data": {
      "text/html": [
       "<div>\n",
       "<table border=\"1\" class=\"dataframe\">\n",
       "  <thead>\n",
       "    <tr style=\"text-align: right;\">\n",
       "      <th></th>\n",
       "      <th>message</th>\n",
       "    </tr>\n",
       "    <tr>\n",
       "      <th>time</th>\n",
       "      <th></th>\n",
       "    </tr>\n",
       "  </thead>\n",
       "  <tbody>\n",
       "    <tr>\n",
       "      <th>2016-03-17 19:54:57.571</th>\n",
       "      <td>Connecting to 192.168.1.2:5357: Connection ref...</td>\n",
       "    </tr>\n",
       "    <tr>\n",
       "      <th>2016-03-18 06:20:07.485</th>\n",
       "      <td>IndraDrive Az [e2819]: Main power failure!</td>\n",
       "    </tr>\n",
       "    <tr>\n",
       "      <th>2016-03-18 06:25:11.214</th>\n",
       "      <td>Connecting to 192.168.1.2:5357: No route to ho...</td>\n",
       "    </tr>\n",
       "    <tr>\n",
       "      <th>2016-03-18 06:25:23.374</th>\n",
       "      <td>PARK: Not allowed in state Locked[3]... ignored.</td>\n",
       "    </tr>\n",
       "  </tbody>\n",
       "</table>\n",
       "</div>"
      ],
      "text/plain": [
       "                                                                   message\n",
       "time                                                                      \n",
       "2016-03-17 19:54:57.571  Connecting to 192.168.1.2:5357: Connection ref...\n",
       "2016-03-18 06:20:07.485         IndraDrive Az [e2819]: Main power failure!\n",
       "2016-03-18 06:25:11.214  Connecting to 192.168.1.2:5357: No route to ho...\n",
       "2016-03-18 06:25:23.374   PARK: Not allowed in state Locked[3]... ignored."
      ]
     },
     "execution_count": 11,
     "metadata": {},
     "output_type": "execute_result"
    }
   ],
   "source": [
    "warnings.query(\"server == 'DRIVE_CONTROL'\")[[\"message\"]]"
   ]
  },
  {
   "cell_type": "markdown",
   "metadata": {},
   "source": [
    "Again some warnings from switching on and shutting down. Not really interesting. (Need to find a way to filter this without filtering too much)\n",
    "\n",
    "---\n",
    "\n",
    "# The rest by frequency"
   ]
  },
  {
   "cell_type": "code",
   "execution_count": 12,
   "metadata": {
    "collapsed": false
   },
   "outputs": [
    {
     "data": {
      "text/plain": [
       "<matplotlib.axes._subplots.AxesSubplot at 0x7fbdc58e0a58>"
      ]
     },
     "execution_count": 12,
     "metadata": {},
     "output_type": "execute_result"
    },
    {
     "data": {
      "image/png": "[encoded data removed]",
      "text/plain": [
       "<matplotlib.figure.Figure at 0x7fbdc59769e8>"
      ]
     },
     "metadata": {},
     "output_type": "display_data"
    }
   ],
   "source": [
    "non_error_or_warning = logs.query(\"severity not in ['E', 'W']\")\n",
    "non_error_or_warning.server.value_counts().plot.bar()"
   ]
  },
  {
   "cell_type": "code",
   "execution_count": 13,
   "metadata": {
    "collapsed": false
   },
   "outputs": [
    {
     "data": {
      "text/plain": [
       "Ramping: target values reached.                                                            11689\n",
       "Ramping[5] by Run()                                                                        11687\n",
       "State Transition from Ramping[5] to VoltageOn[9] (by Run())                                11675\n",
       "VoltageOn[9] by Run()                                                                      11675\n",
       "State Transition from VoltageOn[9] to Ramping[5] (by Run())                                11675\n",
       "VoltageOff[7] by Run()                                                                        13\n",
       "State Transition from VoltageOff[7] to Ramping[5] (by Run())                                  12\n",
       "State Transition from Ramping[5] to VoltageOff[7] (by Run())                                  12\n",
       "Synchronization time expired (1)                                                               1\n",
       "State Transition from VoltageOff[7] to Disconnected[1] (by Run())                              1\n",
       "Synchronization time expired (0)                                                               1\n",
       "Initializing[3] by Run()                                                                       1\n",
       "Disconnected[1] by Run()                                                                       1\n",
       "Stream successfully synchronized.                                                              1\n",
       "Connecting to /dev/serial/by-id/usb-FTDI_UM245R_FTE03K4V-if00-port0.                           1\n",
       "Initial answer received: 0x000000                                                              1\n",
       "Connection established.                                                                        1\n",
       "Closed connection to /dev/serial/by-id/usb-FTDI_UM245R_FTE03K4V-if00-port0 succesfully.        1\n",
       "State Transition from Disconnected[1] to Initializing[3] (by Run())                            1\n",
       "Closing connection to /dev/serial/by-id/usb-FTDI_UM245R_FTE03K4V-if00-port0.                   1\n",
       "Setting fSendCounter to 0                                                                      1\n",
       "State Transition from Initializing[3] to VoltageOff[7] (by Run())                              1\n",
       "Name: message, dtype: int64"
      ]
     },
     "execution_count": 13,
     "metadata": {},
     "output_type": "execute_result"
    }
   ],
   "source": [
    "bias_infos = non_error_or_warning.query(\"server == 'BIAS_CONTROL'\")\n",
    "bias_infos.message.value_counts()"
   ]
  },
  {
   "cell_type": "code",
   "execution_count": 14,
   "metadata": {
    "collapsed": false
   },
   "outputs": [
    {
     "data": {
      "text/html": [
       "<div>\n",
       "<table border=\"1\" class=\"dataframe\">\n",
       "  <thead>\n",
       "    <tr style=\"text-align: right;\">\n",
       "      <th></th>\n",
       "      <th>severity</th>\n",
       "      <th>server</th>\n",
       "      <th>state</th>\n",
       "      <th>message</th>\n",
       "    </tr>\n",
       "    <tr>\n",
       "      <th>time</th>\n",
       "      <th></th>\n",
       "      <th></th>\n",
       "      <th></th>\n",
       "      <th></th>\n",
       "    </tr>\n",
       "  </thead>\n",
       "  <tbody>\n",
       "    <tr>\n",
       "      <th>2016-03-17 19:57:38.186</th>\n",
       "      <td>I</td>\n",
       "      <td>BIAS_CONTROL</td>\n",
       "      <td>NaN</td>\n",
       "      <td>Synchronization time expired (0)</td>\n",
       "    </tr>\n",
       "    <tr>\n",
       "      <th>2016-03-17 19:57:38.687</th>\n",
       "      <td>I</td>\n",
       "      <td>BIAS_CONTROL</td>\n",
       "      <td>NaN</td>\n",
       "      <td>Synchronization time expired (1)</td>\n",
       "    </tr>\n",
       "  </tbody>\n",
       "</table>\n",
       "</div>"
      ],
      "text/plain": [
       "                        severity        server  state  \\\n",
       "time                                                    \n",
       "2016-03-17 19:57:38.186        I  BIAS_CONTROL    NaN   \n",
       "2016-03-17 19:57:38.687        I  BIAS_CONTROL    NaN   \n",
       "\n",
       "                                                  message  \n",
       "time                                                       \n",
       "2016-03-17 19:57:38.186  Synchronization time expired (0)  \n",
       "2016-03-17 19:57:38.687  Synchronization time expired (1)  "
      ]
     },
     "execution_count": 14,
     "metadata": {},
     "output_type": "execute_result"
    }
   ],
   "source": [
    "bias_infos[bias_infos.message.str.contains(\"Synchro\")]"
   ]
  },
  {
   "cell_type": "markdown",
   "metadata": {},
   "source": [
    "\n",
    "I guess for a summary we could certainly remove really **all** of the infos, we see 10k times per night. We could count them, so we see when they suddenly happen 100k times instead of 10k or so..."
   ]
  },
  {
   "cell_type": "code",
   "execution_count": 15,
   "metadata": {
    "collapsed": false
   },
   "outputs": [
    {
     "data": {
      "text/plain": [
       "InProgress[8] by ExecFunc function-call (CURRENT)                                                         61\n",
       "State Transition from Calibrated[6] to WaitingForData[7] (by ExecFunc function-call: START)               61\n",
       "State Transition from WaitingForData[7] to InProgress[8] (by ExecFunc function-call: CURRENT)             61\n",
       "WaitingForData[7] by ExecFunc function-call (START)                                                       61\n",
       "State Transition from InProgress[8] to Calibrated[6] (by ExecFunc function-call: STOP)                    51\n",
       "Calibrated[6] by ExecFunc function-call (STOP)                                                            51\n",
       "Starting feedback with an offset of 2.38419e-08V                                                          31\n",
       "Starting feedback with an offset of -1.1V                                                                 30\n",
       "Calibrated[6] by ExecFunc function-call (STATE)                                                            9\n",
       "State Transition from InProgress[8] to Calibrated[6] (by ExecFunc function-call: STATE)                    9\n",
       "Connecting[3] by Execute-command                                                                           3\n",
       "Calibrating[5] by ExecFunc function-call (CALIBRATE)                                                       2\n",
       "Calibration successfully done.                                                                             2\n",
       "Starting calibration step 3                                                                                2\n",
       "State Transition from Connecting[3] to Connected[4] (by Execute-command)                                   2\n",
       "State Transition from Connected[4] to Calibrating[5] (by ExecFunc function-call: CALIBRATE)                2\n",
       "Starting calibration step 5                                                                                2\n",
       "State Transition from Calibrating[5] to Calibrated[6] (by ExecFunc function-call: CURRENT)                 2\n",
       "Calibrated[6] by ExecFunc function-call (CURRENT)                                                          2\n",
       "Starting calibration step 4                                                                                2\n",
       "Connected[4] by Execute-command                                                                            2\n",
       "Starting calibration (ignore=30, N=300)                                                                    2\n",
       "dU(12.30degC)=-0.699V+-0.041  Udrp=0.557V+-0.078 Unom=2.38e-08V Uov=-0.000398 Imed=42.8uA [N=1/2/13]       1\n",
       "dU(11.82degC)=-0.725V+-0.038  Udrp=0.520V+-0.074 Unom=2.38e-08V Uov=-0.000373 Imed=39.8uA [N=1/1/11]       1\n",
       "dU(8.35degC)=-0.916V+-0.014  Udrp=0.065V+-0.050 Unom=2.38e-08V Uov=0.000259 Imed=4.57uA [N=0/6/42]         1\n",
       "dU(12.10degC)=-0.710V+-0.041  Udrp=0.545V+-0.078 Unom=2.38e-08V Uov=0.000107 Imed=41.7uA [N=1/1/17]        1\n",
       "dU(12.26degC)=-0.701V+-0.039  Udrp=0.542V+-0.077 Unom=2.38e-08V Uov=9.95e-05 Imed=41.5uA [N=1/1/15]        1\n",
       "dU(11.31degC)=-0.753V+-0.043  Udrp=0.533V+-0.077 Unom=2.38e-08V Uov=0.000762 Imed=40.7uA [N=1/1/18]        1\n",
       "dU(8.49degC)=-0.908V+-0.013  Udrp=0.087V+-0.049 Unom=2.38e-08V Uov=-0.000559 Imed=6.34uA [N=1/1/41]        1\n",
       "dU(8.29degC)=-0.919V+-0.014  Udrp=0.064V+-0.050 Unom=2.38e-08V Uov=2.43e-05 Imed=4.53uA [N=0/0/40]         1\n",
       "                                                                                                          ..\n",
       "dU(9.97degC)=-0.827V+-0.026  Udrp=0.249V+-0.054 Unom=2.38e-08V Uov=0.000217 Imed=18.7uA [N=0/3/23]         1\n",
       "dU(12.31degC)=-0.698V+-0.041  Udrp=0.557V+-0.078 Unom=2.38e-08V Uov=4.75e-05 Imed=42.7uA [N=1/1/24]        1\n",
       "dU(12.51degC)=-0.687V+-0.047  Udrp=0.568V+-0.079 Unom=2.38e-08V Uov=0.000141 Imed=43.4uA [N=1/1/17]        1\n",
       "dU(10.09degC)=-0.820V+-0.029  Udrp=0.513V+-0.073 Unom=2.38e-08V Uov=0.00218 Imed=39uA [N=1/5/69]           1\n",
       "dU(9.33degC)=-0.862V+-0.030  Udrp=0.167V+-0.068 Unom=2.38e-08V Uov=0.000245 Imed=10.5uA [N=0/0/37]         1\n",
       "dU(9.78degC)=-0.837V+-0.026  Udrp=0.228V+-0.053 Unom=2.38e-08V Uov=7.04e-05 Imed=17.2uA [N=0/1/37]         1\n",
       "dU(11.99degC)=-0.715V+-0.040  Udrp=0.554V+-0.079 Unom=2.38e-08V Uov=0.000336 Imed=42.2uA [N=1/1/13]        1\n",
       "dU(10.27degC)=-0.810V+-0.041  Udrp=0.521V+-0.082 Unom=2.38e-08V Uov=0.0014 Imed=39.6uA [N=1/2/28]          1\n",
       "dU(10.45degC)=-0.800V+-0.029  Udrp=0.413V+-0.064 Unom=2.38e-08V Uov=0.000351 Imed=31.5uA [N=1/1/16]        1\n",
       "dU(9.54degC)=-0.850V+-0.032  Udrp=0.216V+-0.087 Unom=2.38e-08V Uov=0.000159 Imed=13uA [N=0/0/31]           1\n",
       "dU(12.73degC)=-0.675V+-0.051  Udrp=0.561V+-0.078 Unom=2.38e-08V Uov=0.00017 Imed=42.8uA [N=1/1/17]         1\n",
       "dU(10.46degC)=-0.800V+-0.028  Udrp=0.393V+-0.063 Unom=2.38e-08V Uov=0.00755 Imed=29.9uA [N=1/5/87]         1\n",
       "dU(10.51degC)=-0.797V+-0.027  Udrp=0.383V+-0.063 Unom=2.38e-08V Uov=0.00111 Imed=29.2uA [N=1/1/26]         1\n",
       "dU(10.26degC)=-0.811V+-0.029  Udrp=0.599V+-0.097 Unom=2.38e-08V Uov=0.00844 Imed=45.7uA [N=61/128/195]     1\n",
       "dU(12.59degC)=-0.683V+-0.048  Udrp=0.560V+-0.078 Unom=2.38e-08V Uov=8.84e-05 Imed=42.8uA [N=1/1/12]        1\n",
       "dU(12.27degC)=-0.700V+-0.039  Udrp=0.537V+-0.076 Unom=2.38e-08V Uov=5.8e-05 Imed=41uA [N=1/1/22]           1\n",
       "dU(10.02degC)=-0.824V+-0.036  Udrp=0.516V+-0.077 Unom=2.38e-08V Uov=0.00206 Imed=39.4uA [N=2/19/111]       1\n",
       "dU(8.36degC)=-0.915V+-0.015  Udrp=0.065V+-0.049 Unom=2.38e-08V Uov=8.17e-05 Imed=4.62uA [N=0/2/37]         1\n",
       "dU(13.88degC)=-0.612V+-0.052  Udrp=1.037V+-0.133 Unom=2.38e-08V Uov=0.00228 Imed=79.4uA [N=1/1/15]         1\n",
       "dU(12.29degC)=-0.699V+-0.041  Udrp=0.558V+-0.079 Unom=2.38e-08V Uov=9.8e-05 Imed=42.9uA [N=1/1/12]         1\n",
       "dU(8.44degC)=-0.911V+-0.012  Udrp=0.061V+-0.049 Unom=2.38e-08V Uov=-0.000361 Imed=4.27uA [N=0/3/38]        1\n",
       "dU(10.27degC)=-0.810V+-0.040  Udrp=0.483V+-0.073 Unom=2.38e-08V Uov=0.00436 Imed=36.7uA [N=1/3/46]         1\n",
       "dU(12.28degC)=-0.699V+-0.041  Udrp=0.558V+-0.078 Unom=2.38e-08V Uov=0.000185 Imed=42.8uA [N=1/1/12]        1\n",
       "dU(8.55degC)=-0.905V+-0.019  Udrp=0.068V+-0.050 Unom=2.38e-08V Uov=-0.000192 Imed=4.8uA [N=0/1/51]         1\n",
       "dU(10.16degC)=-0.816V+-0.032  Udrp=0.481V+-0.070 Unom=2.38e-08V Uov=-0.00364 Imed=36.7uA [N=1/1/48]        1\n",
       "dU(8.29degC)=-0.919V+-0.013  Udrp=0.064V+-0.049 Unom=2.38e-08V Uov=0.000293 Imed=4.58uA [N=0/1/38]         1\n",
       "dU(12.16degC)=-0.706V+-0.040  Udrp=0.547V+-0.078 Unom=2.38e-08V Uov=0.00111 Imed=41.9uA [N=1/1/25]         1\n",
       "dU(8.34degC)=-0.916V+-0.014  Udrp=0.064V+-0.050 Unom=2.38e-08V Uov=0.000549 Imed=4.53uA [N=0/3/46]         1\n",
       "dU(10.27degC)=-0.810V+-0.040  Udrp=0.519V+-0.078 Unom=2.38e-08V Uov=0.00142 Imed=39.3uA [N=1/1/44]         1\n",
       "dU(14.58degC)=-0.573V+-0.058  Udrp=0.829V+-0.108 Unom=2.38e-08V Uov=0.00283 Imed=63.5uA [N=1/1/18]         1\n",
       "Name: message, dtype: int64"
      ]
     },
     "execution_count": 15,
     "metadata": {},
     "output_type": "execute_result"
    }
   ],
   "source": [
    "feedback_infos = non_error_or_warning.query(\"server == 'FEEDBACK'\")\n",
    "feedback_infos.message.value_counts()"
   ]
  },
  {
   "cell_type": "markdown",
   "metadata": {},
   "source": [
    "I have no idea what all these \"dU\" infos are doing here. Looks for me like *debugging print*, which one does during evaluation of a new algorithm... are we testing something new in feedback at the moment? \n",
    "\n",
    "I guess these can also be filtered away and maybe counted. How many are there anyway?"
   ]
  },
  {
   "cell_type": "code",
   "execution_count": 16,
   "metadata": {
    "collapsed": false
   },
   "outputs": [
    {
     "data": {
      "text/plain": [
       "12127"
      ]
     },
     "execution_count": 16,
     "metadata": {},
     "output_type": "execute_result"
    }
   ],
   "source": [
    "len(feedback_infos.message.str.startswith(\"dU(\"))"
   ]
  },
  {
   "cell_type": "markdown",
   "metadata": {},
   "source": [
    "12k ... not bad ... have fun reading all of them in order to find some fishy number ... :-)\n",
    "\n",
    "No seriously ... tomorry these will be filtered away and counted only.\n",
    "\n",
    "---\n"
   ]
  },
  {
   "cell_type": "code",
   "execution_count": 17,
   "metadata": {
    "collapsed": false
   },
   "outputs": [
    {
     "data": {
      "text/plain": [
       "H=20.6% T=26.1C    39\n",
       "H=20.6% T=26.3C    37\n",
       "H=20.6% T=26.2C    34\n",
       "H=20.6% T=26.4C    34\n",
       "H=20.6% T=26.5C    26\n",
       "H=29.3% T=11.7C    23\n",
       "H=20.7% T=26.3C    22\n",
       "H=20.7% T=26.1C    22\n",
       "H=20.7% T=26.4C    21\n",
       "H=20.6% T=26.0C    21\n",
       "H=29.5% T=11.6C    20\n",
       "H=20.4% T=26.4C    20\n",
       "H=29.4% T=11.4C    19\n",
       "H=20.5% T=26.3C    18\n",
       "H=29.3% T=11.5C    18\n",
       "H=20.7% T=26.2C    18\n",
       "H=29.1% T=11.7C    17\n",
       "H=29.4% T=11.5C    17\n",
       "H=28.7% T=11.9C    17\n",
       "H=29.2% T=11.9C    17\n",
       "H=29.5% T=11.4C    17\n",
       "H=29.3% T=11.6C    16\n",
       "H=29.2% T=11.7C    16\n",
       "H=20.4% T=26.3C    16\n",
       "H=29.2% T=11.4C    16\n",
       "H=29.5% T=11.7C    15\n",
       "H=29.5% T=11.5C    15\n",
       "H=29.0% T=11.7C    15\n",
       "H=20.6% T=26.6C    15\n",
       "H=29.8% T=11.7C    15\n",
       "                   ..\n",
       "H=23.0% T=21.6C     1\n",
       "H=21.9% T=24.2C     1\n",
       "H=21.8% T=24.9C     1\n",
       "H=25.9% T=18.9C     1\n",
       "H=23.5% T=17.0C     1\n",
       "H=28.3% T=15.1C     1\n",
       "H=29.9% T=12.7C     1\n",
       "H=26.9% T=15.6C     1\n",
       "H=20.9% T=25.0C     1\n",
       "H=24.6% T=17.2C     1\n",
       "H=23.4% T=20.9C     1\n",
       "H=23.4% T=20.1C     1\n",
       "H=26.6% T=13.1C     1\n",
       "H=20.7% T=25.2C     1\n",
       "H=28.8% T=14.3C     1\n",
       "H=29.8% T=14.2C     1\n",
       "H=30.4% T=13.2C     1\n",
       "H=30.8% T=10.6C     1\n",
       "H=23.3% T=22.5C     1\n",
       "H=25.5% T=19.6C     1\n",
       "H=23.5% T=22.9C     1\n",
       "H=23.4% T=19.2C     1\n",
       "H=26.2% T=13.2C     1\n",
       "H=29.9% T=13.6C     1\n",
       "H=23.1% T=22.3C     1\n",
       "H=23.1% T=21.9C     1\n",
       "H=22.9% T=19.2C     1\n",
       "H=22.8% T=24.5C     1\n",
       "H=29.4% T=10.9C     1\n",
       "H=27.4% T=15.8C     1\n",
       "Name: message, dtype: int64"
      ]
     },
     "execution_count": 17,
     "metadata": {},
     "output_type": "execute_result"
    }
   ],
   "source": [
    "pfmini_infos = non_error_or_warning.query(\"server == 'PFMINI_CONTROL'\")\n",
    "pfmini_infos.message.value_counts()"
   ]
  },
  {
   "cell_type": "markdown",
   "metadata": {},
   "source": [
    "**WOW** ... And I though we stored such information in fits files ... let's see if there is anything not starting with \"H=\""
   ]
  },
  {
   "cell_type": "code",
   "execution_count": 18,
   "metadata": {
    "collapsed": false
   },
   "outputs": [
    {
     "name": "stdout",
     "output_type": "stream",
     "text": [
      "Total # of infos by PFmini: 5573\n"
     ]
    },
    {
     "data": {
      "text/plain": [
       "Series([], Name: message, dtype: int64)"
      ]
     },
     "execution_count": 18,
     "metadata": {},
     "output_type": "execute_result"
    }
   ],
   "source": [
    "print(\"Total # of infos by PFmini:\", len(pfmini_infos))\n",
    "pfmini_infos = pfmini_infos[~pfmini_infos.message.str.startswith(\"H=\")]\n",
    "pfmini_infos.message.value_counts()"
   ]
  },
  {
   "cell_type": "markdown",
   "metadata": {},
   "source": [
    "Nope ... just 5.5k lines of numbers hopefully identical to the numbers in the fits file. Maybe we should switch this off."
   ]
  },
  {
   "cell_type": "code",
   "execution_count": 19,
   "metadata": {
    "collapsed": false
   },
   "outputs": [
    {
     "data": {
      "text/plain": [
       "12:31:28[0]: T=14C H=28.5% P=786.8hPa Td=-3.9C V=16.8km/h Vmax=24.6km/h dir=187.9       1\n",
       "21:26:28[0]: T=7.8C H=17.5% P=787.3hPa Td=-15.3C V=9km/h Vmax=9.7km/h dir=178.5         1\n",
       "16:28:29[0]: T=13.5C H=22.1% P=785.4hPa Td=-7.7C V=24.8km/h Vmax=24.8km/h dir=261.6     1\n",
       "10:04:59[0]: T=13.1C H=14.6% P=786.8hPa Td=-13.2C V=14km/h Vmax=15.5km/h dir=222.4      1\n",
       "13:57:00[0]: T=13.9C H=31% P=786.2hPa Td=-2.9C V=22.5km/h Vmax=22.5km/h dir=190.3       1\n",
       "10:18:13[0]: T=13.5C H=13.4% P=786.8hPa Td=-13.9C V=19km/h Vmax=22.7km/h dir=202.5      1\n",
       "11:08:01[0]: T=13.9C H=16.9% P=787hPa Td=-10.7C V=15.9km/h Vmax=20.5km/h dir=139.5      1\n",
       "20:12:58[0]: T=7.9C H=23.4% P=786.5hPa Td=-11.7C V=10km/h Vmax=13km/h dir=179.9         1\n",
       "18:11:14[0]: T=11.9C H=20% P=785.8hPa Td=-10.3C V=14.7km/h Vmax=14.8km/h dir=219.6      1\n",
       "03:38:40[0]: T=5.5C H=28.5% P=785.8hPa Td=-11.2C V=10.1km/h Vmax=10.1km/h dir=114.1     1\n",
       "02:17:29[0]: T=5.3C H=33.2% P=786.4hPa Td=-9.6C V=3.3km/h Vmax=3.3km/h dir=173.9        1\n",
       "20:01:01[0]: T=8C H=25.5% P=786.4hPa Td=-10.5C V=10.2km/h Vmax=12.7km/h dir=167         1\n",
       "16:59:13[0]: T=12.7C H=14.9% P=785.7hPa Td=-13.3C V=21.7km/h Vmax=27.9km/h dir=231.5    1\n",
       "23:44:16[0]: T=6.8C H=18.2% P=787.3hPa Td=-15.6C V=7.6km/h Vmax=9.5km/h dir=165         1\n",
       "01:28:01[0]: T=6.3C H=21.9% P=786.8hPa Td=-13.8C V=3.8km/h Vmax=5.1km/h dir=197.1       1\n",
       "07:29:12[0]: T=10C H=21.3% P=786.4hPa Td=-11C V=12.1km/h Vmax=17.8km/h dir=161.9        1\n",
       "01:30:27[0]: T=6.3C H=22.1% P=786.8hPa Td=-13.7C V=5km/h Vmax=5km/h dir=197.1           1\n",
       "12:26:14[0]: T=13.6C H=25.1% P=786.8hPa Td=-5.9C V=12km/h Vmax=18.6km/h dir=248.2       1\n",
       "22:10:27[0]: T=7.8C H=15.8% P=787.3hPa Td=-16.5C V=9.1km/h Vmax=10.2km/h dir=176        1\n",
       "13:18:28[0]: T=13.9C H=28.3% P=786.4hPa Td=-4.2C V=14.8km/h Vmax=22km/h dir=217.6       1\n",
       "09:19:58[0]: T=12.7C H=14.6% P=786.8hPa Td=-13.5C V=11.6km/h Vmax=19.4km/h dir=176.8    1\n",
       "13:31:00[0]: T=14.3C H=30.9% P=786.4hPa Td=-2.6C V=13.7km/h Vmax=16.9km/h dir=212.5     1\n",
       "21:23:14[0]: T=8.1C H=16.8% P=787.3hPa Td=-15.6C V=9.2km/h Vmax=9.5km/h dir=171.1       1\n",
       "06:08:59[0]: T=5.4C H=68.5% P=785.5hPa Td=0.1C V=8.5km/h Vmax=8.6km/h dir=101.9         1\n",
       "12:59:12[0]: T=13.9C H=33% P=786.6hPa Td=-2C V=12.8km/h Vmax=15.6km/h dir=133.5         1\n",
       "23:15:28[0]: T=7.1C H=17.4% P=787.3hPa Td=-15.9C V=8.4km/h Vmax=9.5km/h dir=168.7       1\n",
       "18:53:15[0]: T=10.5C H=24.7% P=786hPa Td=-8.8C V=10.4km/h Vmax=10.5km/h dir=210.7       1\n",
       "04:57:40[0]: T=5.8C H=53% P=785.4hPa Td=-3C V=7.8km/h Vmax=8.6km/h dir=102.7            1\n",
       "07:25:28[0]: T=10.1C H=21% P=786.4hPa Td=-11.2C V=20.7km/h Vmax=25.3km/h dir=154.9      1\n",
       "18:04:00[0]: T=12.2C H=23.5% P=785.8hPa Td=-8C V=14.5km/h Vmax=18.9km/h dir=240.5       1\n",
       "                                                                                       ..\n",
       "12:26:28[0]: T=13.6C H=25% P=786.8hPa Td=-6C V=16.1km/h Vmax=18.4km/h dir=217.8         1\n",
       "15:16:27[0]: T=12.5C H=37% P=785.7hPa Td=-1.7C V=14.5km/h Vmax=15.8km/h dir=134.6       1\n",
       "21:03:27[0]: T=7.8C H=18.8% P=787hPa Td=-14.4C V=7.2km/h Vmax=14km/h dir=158.6          1\n",
       "08:03:27[0]: T=10.6C H=18.8% P=786.6hPa Td=-12.1C V=11km/h Vmax=15.5km/h dir=162.6      1\n",
       "15:26:59[0]: T=13.3C H=29.3% P=785.5hPa Td=-4.1C V=11.1km/h Vmax=18.6km/h dir=166.7     1\n",
       "22:28:13[0]: T=7.9C H=10.1% P=787.3hPa Td=-21.6C V=9.8km/h Vmax=10.6km/h dir=178.6      1\n",
       "06:27:14[0]: T=4.9C H=78.4% P=785.5hPa Td=1.5C V=7.5km/h Vmax=7.5km/h dir=108.4         1\n",
       "09:46:58[0]: T=12.6C H=15.7% P=786.8hPa Td=-12.7C V=14km/h Vmax=21.2km/h dir=177.4      1\n",
       "11:32:16[0]: T=14.1C H=19.5% P=786.8hPa Td=-8.7C V=12km/h Vmax=18.5km/h dir=211.8       1\n",
       "22:23:59[0]: T=7.7C H=12.5% P=787.3hPa Td=-19.3C V=9.3km/h Vmax=11.2km/h dir=163.6      1\n",
       "03:06:58[0]: T=6.1C H=22.8% P=785.9hPa Td=-13.6C V=5.6km/h Vmax=5.6km/h dir=115.6       1\n",
       "16:57:12[0]: T=12.6C H=15% P=785.7hPa Td=-13.2C V=22km/h Vmax=25.5km/h dir=214.9        1\n",
       "22:48:41[0]: T=7.6C H=15.2% P=787.5hPa Td=-17.1C V=9.1km/h Vmax=10.9km/h dir=165        1\n",
       "02:44:59[0]: T=4.9C H=23.1% P=786.2hPa Td=-14.3C V=4.7km/h Vmax=4.8km/h dir=157.4       1\n",
       "14:26:12[0]: T=13.2C H=40.1% P=785.9hPa Td=-0C V=9.1km/h Vmax=9.1km/h dir=139.2         1\n",
       "00:51:28[0]: T=6.4C H=20% P=787hPa Td=-14.8C V=4.2km/h Vmax=4.5km/h dir=180.2           1\n",
       "13:43:13[0]: T=13.9C H=32.3% P=786.2hPa Td=-2.3C V=16.8km/h Vmax=18.1km/h dir=122.7     1\n",
       "13:14:13[0]: T=14C H=32% P=786.4hPa Td=-2.4C V=13.1km/h Vmax=23.3km/h dir=171.5         1\n",
       "23:44:44[0]: T=6.8C H=18.1% P=787.3hPa Td=-15.7C V=7.4km/h Vmax=9km/h dir=167.4         1\n",
       "02:05:40[0]: T=6C H=22.7% P=786.4hPa Td=-13.7C V=3.5km/h Vmax=4km/h dir=173.9           1\n",
       "08:17:59[0]: T=10.7C H=20.2% P=786.6hPa Td=-11.1C V=15.1km/h Vmax=23.9km/h dir=158.8    1\n",
       "11:59:27[0]: T=14.4C H=19% P=786.8hPa Td=-8.9C V=18.9km/h Vmax=24.1km/h dir=182.8       1\n",
       "22:22:15[0]: T=7.7C H=12.5% P=787.3hPa Td=-19.3C V=6.9km/h Vmax=7.4km/h dir=189.3       1\n",
       "11:50:14[0]: T=14.3C H=19.3% P=786.8hPa Td=-8.8C V=17.2km/h Vmax=20.7km/h dir=169.5     1\n",
       "12:29:27[0]: T=13.9C H=28.8% P=786.8hPa Td=-3.9C V=11.8km/h Vmax=16.1km/h dir=191.2     1\n",
       "11:06:28[0]: T=13.9C H=18.1% P=787hPa Td=-9.8C V=11.8km/h Vmax=11.8km/h dir=155.3       1\n",
       "23:18:41[0]: T=6.9C H=17.8% P=787.3hPa Td=-15.8C V=9.3km/h Vmax=11.8km/h dir=173.4      1\n",
       "15:09:28[0]: T=12.5C H=36.7% P=785.7hPa Td=-1.9C V=9.1km/h Vmax=13.4km/h dir=156.6      1\n",
       "14:17:58[0]: T=14C H=34% P=785.9hPa Td=-1.6C V=15.5km/h Vmax=19.2km/h dir=209.3         1\n",
       "03:58:00[0]: T=5C H=37.1% P=785.7hPa Td=-8.4C V=10.7km/h Vmax=10.7km/h dir=115.3        1\n",
       "Name: message, dtype: int64"
      ]
     },
     "execution_count": 19,
     "metadata": {},
     "output_type": "execute_result"
    }
   ],
   "source": [
    "non_error_or_warning.query(\"server == 'MAGIC_WEATHER'\").message.value_counts()"
   ]
  },
  {
   "cell_type": "markdown",
   "metadata": {},
   "source": [
    "Getting more and more interesting. What are the numbers in the front? Either this logfile_parser has a bug, since the *time stamp* should definitely not be part of the *message* or MAGIC_WEATHER outpus somehow a dual timestamp. \n",
    "\n",
    "Let's look at the raw un parsed lines for a moment"
   ]
  },
  {
   "cell_type": "code",
   "execution_count": 20,
   "metadata": {
    "collapsed": false
   },
   "outputs": [
    {
     "data": {
      "text/plain": [
       "[' -> 07:20:41.357000 - MAGIC_WEATHER: 07:20:28[0]: T=10C H=22.9% P=786.4hPa Td=-10.1C V=14.8km/h Vmax=20.7km/h dir=163.7\\n',\n",
       " ' -> 07:21:11.360000 - MAGIC_WEATHER: 07:20:59[0]: T=10C H=22.2% P=786.4hPa Td=-10.6C V=18.1km/h Vmax=24.1km/h dir=169.4\\n',\n",
       " ' -> 07:21:26.362000 - MAGIC_WEATHER: 07:21:13[0]: T=10C H=22.4% P=786.4hPa Td=-10.5C V=17.3km/h Vmax=24.1km/h dir=163.7\\n',\n",
       " ' -> 07:21:41.363000 - MAGIC_WEATHER: 07:21:27[0]: T=9.9C H=22.6% P=786.4hPa Td=-10.4C V=13.6km/h Vmax=17.3km/h dir=166.9\\n',\n",
       " ' -> 07:22:11.366000 - MAGIC_WEATHER: 07:22:01[0]: T=9.9C H=22.4% P=786.4hPa Td=-10.5C V=18.5km/h Vmax=18.5km/h dir=177.2\\n',\n",
       " ' -> 07:22:26.367000 - MAGIC_WEATHER: 07:22:15[0]: T=9.9C H=22.4% P=786.4hPa Td=-10.5C V=15.8km/h Vmax=18.5km/h dir=131.2\\n',\n",
       " ' -> 07:22:41.369000 - MAGIC_WEATHER: 07:22:26[0]: T=9.9C H=22.4% P=786.4hPa Td=-10.5C V=15.6km/h Vmax=22.5km/h dir=145.5\\n',\n",
       " ' -> 07:23:11.372000 - MAGIC_WEATHER: 07:23:00[0]: T=9.9C H=21.4% P=786.4hPa Td=-11.1C V=25km/h Vmax=25km/h dir=165.1\\n',\n",
       " ' -> 07:23:26.373000 - MAGIC_WEATHER: 07:23:14[0]: T=9.9C H=21.1% P=786.4hPa Td=-11.2C V=26.8km/h Vmax=26.8km/h dir=183.9\\n',\n",
       " ' -> 07:23:41.375000 - MAGIC_WEATHER: 07:23:28[0]: T=10C H=21% P=786.3hPa Td=-11.2C V=25.3km/h Vmax=30.1km/h dir=183.9\\n']"
      ]
     },
     "execution_count": 20,
     "metadata": {},
     "output_type": "execute_result"
    }
   ],
   "source": [
    "import codecs\n",
    "raw_lines = codecs.open(\"20160317.log\", \"r\", encoding='utf-8', errors='ignore').readlines()\n",
    "MW_raw_lines = [line for line in raw_lines if \"MAGIC_WEATHER\" in line]\n",
    "MW_raw_lines[10:20]"
   ]
  },
  {
   "cell_type": "markdown",
   "metadata": {},
   "source": [
    "Yes, there is another time stamp in those lines .. okay so the parser is not entirely useless. \n",
    "\n",
    "Ok. So ... erm ... I guess this could also be switched off, since it should be written in exactly the same manner into the fits aux file, right?"
   ]
  },
  {
   "cell_type": "code",
   "execution_count": 21,
   "metadata": {
    "collapsed": false
   },
   "outputs": [
    {
     "data": {
      "text/plain": [
       "Configuring1[7] by ExecFunc function-call (START)                                      204\n",
       "Configuring3[9] by Execute-command                                                     204\n",
       "Configuring FAD                                                                        204\n",
       "State Transition from Configuring3[9] to Configured[14] (by Execute-command)           204\n",
       "Configured[14] by Execute-command                                                      204\n",
       "Configuring2[8] by Execute-command                                                     204\n",
       "State Transition from Configuring2[8] to Configuring3[9] (by Execute-command)          204\n",
       "Starting Trigger (FTM)                                                                 204\n",
       "State Transition from TriggerOn[15] to TakingData[16] (by Execute-command)             204\n",
       "State Transition from Idle[5] to Configuring1[7] (by ExecFunc function-call: START)    204\n",
       "Configuring Trigger (FTM)                                                              204\n",
       "State Transition from Configured[14] to TriggerOn[15] (by Execute-command)             204\n",
       "Idle[5] by Execute-command                                                             204\n",
       "TriggerOn[15] by Execute-command                                                       204\n",
       "State Transition from Configuring1[7] to Configuring2[8] (by Execute-command)          204\n",
       "Starting Rate Control                                                                  204\n",
       "TakingData[16] by Execute-command                                                      204\n",
       "State Transition from TakingData[16] to Idle[5] (by Execute-command)                   204\n",
       "Stopping ratecontrol                                                                   172\n",
       "Starting configuration 'data' for new run [300s]                                       105\n",
       "Starting configuration 'pedestal' for new run [1000 events]                             45\n",
       "Starting configuration 'data' for new run [60s]                                         30\n",
       "Starting configuration 'drs-pedestal' for new run [1000 events]                         10\n",
       "Starting configuration 'drs-gain' for new run [1000 events]                              8\n",
       "Starting configuration 'drs-gain' for new run                                            2\n",
       "Starting configuration 'single-pe' for new run [10000 events]                            2\n",
       "Stopping FTM                                                                             2\n",
       "Stopping FAD                                                                             2\n",
       "Starting configuration 'light-pulser-ext' for new run [1000 events]                      1\n",
       "Starting configuration 'drs-time' for new run [1000 events]                              1\n",
       "Name: message, dtype: int64"
      ]
     },
     "execution_count": 21,
     "metadata": {},
     "output_type": "execute_result"
    }
   ],
   "source": [
    "non_error_or_warning.query(\"server == 'MCP'\").message.value_counts()"
   ]
  },
  {
   "cell_type": "markdown",
   "metadata": {},
   "source": [
    "Now this is nice ... we can see how many data runs we have taken tonight and such things. It is pretty concise. I think this might make for a good start of the shift summary. At least part of it. \n",
    "\n",
    "---"
   ]
  },
  {
   "cell_type": "code",
   "execution_count": 22,
   "metadata": {
    "collapsed": false
   },
   "outputs": [
    {
     "data": {
      "text/plain": [
       "Configuring3[7] by Run()                                                                                    204\n",
       "Run successfully started... first data received.                                                            204\n",
       "State Transition from Connected[4] to Configuring1[5] (by ExecFunc function-call: CONFIGURE)                204\n",
       "State Transition from Configuring2[6] to Configuring3[7] (by Run())                                         204\n",
       "State Transition from Configuring1[5] to Configuring2[6] (by Run())                                         204\n",
       "Configured[8] by Run()                                                                                      204\n",
       "State Transition from Configuring3[7] to Configured[8] (by Run())                                           204\n",
       "Configuring1[5] by ExecFunc function-call (CONFIGURE)                                                       204\n",
       "Configuring2[6] by Run()                                                                                    204\n",
       "State Transition from Configured[8] to RunInProgress[9] (by HandleTrigger())                                203\n",
       "RunInProgress[9] by HandleTrigger()                                                                         203\n",
       "State Transition from RunInProgress[9] to Connected[4] (by HandleTrigger())                                 202\n",
       "Connected[4] by HandleTrigger()                                                                             202\n",
       "EventBuilder: File closed because 300s reached                                                              105\n",
       "EventBuilder: File closed because 1000 evts reached                                                          64\n",
       "EventBuilder: File closed because 60s reached                                                                30\n",
       "File format set to: kZFits.                                                                                  11\n",
       "Resetted DRS calibration.                                                                                    10\n",
       "File format set to: kNone.                                                                                    2\n",
       "EventBuilder: File closed because 10000 evts reached                                                          2\n",
       "Connected[4] by Run()                                                                                         2\n",
       "EventBuilder: File closed because close requested                                                             2\n",
       "State Transition from RunInProgress[9] to Connected[4] (by Run())                                             2\n",
       "Opened: /raid10/raw/2016/03/17/20160317_165.fits.fz (165)                                                     1\n",
       "Starting configuration for run 24 (data)                                                                      1\n",
       "EventBuilder: Opened new file for run 138 (evt=1)                                                             1\n",
       "EventBuilder: Opened new file for run 103 (evt=1)                                                             1\n",
       "Opened: /raid10/raw/2016/03/17/20160317_042.fits.fz (42)                                                      1\n",
       "Starting configuration for run 100 (pedestal)                                                                 1\n",
       "Closed: /raid10/raw/2016/03/17/20160317_110.fits.fz (110)                                                     1\n",
       "                                                                                                           ... \n",
       "EventBuilder: New run 103 (evt=1) registered with roi=300(300), prev=102                                      1\n",
       "Opened: /raid10/raw/2016/03/17/20160317_124.fits.fz (124)                                                     1\n",
       "Starting configuration for run 193 (data)                                                                     1\n",
       "Closed: /raid10/raw/2016/03/17/20160317_146.fits.fz (146)                                                     1\n",
       "EventBuilder: New run 59 (evt=1) registered with roi=300(300), prev=58                                        1\n",
       "Closed: /raid10/raw/2016/03/17/20160317_188.fits.fz (188)                                                     1\n",
       "EventBuilder: New run 9 (evt=1) registered with roi=1024(1024), prev=8                                        1\n",
       "Opened: /raid10/raw/2016/03/17/20160317_119.fits.fz (119)                                                     1\n",
       "EventBuilder: New run 92 (evt=1) registered with roi=1024(1024), prev=91                                      1\n",
       "Opened: /raid10/raw/2016/03/17/20160317_194.fits.fz (194)                                                     1\n",
       "Opened: /raid10/raw/2016/03/17/20160317_195.fits.fz (195)                                                     1\n",
       "Starting configuration for run 101 (data)                                                                     1\n",
       "Opened: /raid10/raw/2016/03/17/20160317_164.fits.fz (164)                                                     1\n",
       "Closed: /raid10/raw/2016/03/17/20160317_172.fits.fz (172)                                                     1\n",
       "Opened: /raid10/raw/2016/03/17/20160317_063.fits.fz (63)                                                      1\n",
       "EventBuilder: New run 198 (evt=1) registered with roi=300(300), prev=197                                      1\n",
       "EventBuilder: Opened new file for run 133 (evt=1)                                                             1\n",
       "Closed: /raid10/raw/2016/03/17/20160317_116.fits.fz (116)                                                     1\n",
       "Successfully loaded DRS calibration from /loc_data/raw/2016/03/16/20160316_171.drs.fits                       1\n",
       "Closed: /raid10/raw/2016/03/17/20160317_058.fits.fz (58)                                                      1\n",
       "Starting configuration for run 34 (data)                                                                      1\n",
       "Starting configuration for run 162 (data)                                                                     1\n",
       "EventBuilder: New run 11 (evt=1) registered with roi=300(300), prev=10                                        1\n",
       "Opened: /raid10/raw/2016/03/17/20160317_123.fits.fz (123)                                                     1\n",
       "Opened: /raid10/raw/2016/03/17/20160317_112.fits.fz (112)                                                     1\n",
       "Closed: /raid10/raw/2016/03/17/20160317_121.fits.fz (121)                                                     1\n",
       "Opened: /raid10/raw/2016/03/17/20160317_081.fits.fz (81)                                                      1\n",
       "Starting configuration for run 151 (data)                                                                     1\n",
       "EventBuilder: Opened new file for run 51 (evt=1)                                                              1\n",
       "Wrote DRS calibration data (run=188, step=1, roi=1024) to '/raid10/raw/2016/03/17/20160317_188.drs.fits'      1\n",
       "Name: message, dtype: int64"
      ]
     },
     "execution_count": 22,
     "metadata": {},
     "output_type": "execute_result"
    }
   ],
   "source": [
    "non_error_or_warning.query(\"server == 'FAD_CONTROL'\").message.value_counts()"
   ]
  },
  {
   "cell_type": "markdown",
   "metadata": {},
   "source": [
    "This is not so interesting I guess. Most of the stuff reported here was already visible in the MCP messages, which makes a lot of sense. Do you think the numbers should be checked? Like: MCP started 204 times to configure the FADs, and the FADs reacted exactly 204 times on it? No ... this is not interesting... if it does not work, we get an exception anyway..."
   ]
  },
  {
   "cell_type": "code",
   "execution_count": 23,
   "metadata": {
    "collapsed": false
   },
   "outputs": [
    {
     "data": {
      "text/plain": [
       "Sending stop trigger.                                                                                237\n",
       "Configured1[8] by Run()                                                                              205\n",
       "State Transition from Configuring2[7] to Configured1[8] (by Run())                                   205\n",
       "Sending new configuration was successfull.                                                           205\n",
       "Configuring1[6] by ExecFunc function-call (CONFIGURE)                                                205\n",
       "Trigger successfully disabled... sending new configuration.                                          205\n",
       "State Transition from Configuring1[6] to Configuring2[7] (by Run())                                  205\n",
       "Configuring2[7] by Run()                                                                             205\n",
       "Configured2[9] by ExecFunc function-call (START_TRIGGER)                                             204\n",
       "TriggerOn[5] by Run()                                                                                204\n",
       "State Transition from Configured1[8] to Configured2[9] (by ExecFunc function-call: START_TRIGGER)    204\n",
       "State Transition from Configured2[9] to TriggerOn[5] (by Run())                                      204\n",
       "Sending start trigger.                                                                               204\n",
       "State Transition from TriggerOn[5] to Configuring1[6] (by ExecFunc function-call: CONFIGURE)         172\n",
       "Starting configuration for 'data' [1]                                                                135\n",
       "Configuration successfully updated.                                                                  134\n",
       "Starting configuration for 'pedestal' [1]                                                             45\n",
       "State Transition from Valid[4] to Configuring1[6] (by ExecFunc function-call: CONFIGURE)              33\n",
       "Valid[4] by Run()                                                                                     32\n",
       "State Transition from TriggerOn[5] to Valid[4] (by Run())                                             32\n",
       "Starting configuration for 'drs-pedestal' [1]                                                         10\n",
       "Starting configuration for 'drs-gain' [1]                                                             10\n",
       "Starting configuration for 'single-pe' [1]                                                             2\n",
       "Starting configuration for 'ratescan' [1]                                                              1\n",
       "Starting configuration for 'drs-time' [1]                                                              1\n",
       "State Transition from Configured1[8] to Valid[4] (by ExecFunc function-call: RESET_CONFIGURE)          1\n",
       "Valid[4] by ExecFunc function-call (RESET_CONFIGURE)                                                   1\n",
       "Starting configuration for 'light-pulser-ext' [1]                                                      1\n",
       "Name: message, dtype: int64"
      ]
     },
     "execution_count": 23,
     "metadata": {},
     "output_type": "execute_result"
    }
   ],
   "source": [
    "non_error_or_warning.query(\"server == 'FTM_CONTROL'\").message.value_counts()"
   ]
  },
  {
   "cell_type": "code",
   "execution_count": 24,
   "metadata": {
    "collapsed": false
   },
   "outputs": [
    {
     "data": {
      "text/plain": [
       "Stop received.                                                                                            176\n",
       "Connected[4] by ExecFunc function-call (STOP)                                                             176\n",
       "InProgress[7] by Execute-command                                                                          135\n",
       "State Transition from GlobalThresholdSet[6] to InProgress[7] (by Execute-command)                         135\n",
       "Calibrating[5] by ExecFunc function-call (CALIBRATE_RUN)                                                  134\n",
       "GlobalThresholdSet[6] by ExecFunc function-call (STATIC_DATA)                                             134\n",
       "State Transition from Connected[4] to Calibrating[5] (by ExecFunc function-call: CALIBRATE_RUN)           134\n",
       "State Transition from Calibrating[5] to GlobalThresholdSet[6] (by ExecFunc function-call: STATIC_DATA)    134\n",
       "Rate calibration by current with min. threshold of 290.                                                   134\n",
       "State Transition from InProgress[7] to Connected[4] (by ExecFunc function-call: STOP)                     108\n",
       "Set 1 individual thresholds.                                                                               82\n",
       "GlobalThresholdSet[6] by ExecFunc function-call (CALIBRATE_RUN)                                            70\n",
       "State Transition from Connected[4] to GlobalThresholdSet[6] (by ExecFunc function-call: CALIBRATE_RUN)     70\n",
       "No calibration requested.                                                                                  69\n",
       "State Transition from GlobalThresholdSet[6] to Connected[4] (by ExecFunc function-call: STOP)              68\n",
       "CalibrateRun - Run-type 'pedestal' not found... trying 'default'.                                          45\n",
       "Connected[4] by Execute-command                                                                            28\n",
       "State Transition from InProgress[7] to Connected[4] (by Execute-command)                                   27\n",
       "Set 4 individual thresholds.                                                                               23\n",
       "Set 2 individual thresholds.                                                                               11\n",
       "CalibrateRun - Run-type 'drs-pedestal' not found... trying 'default'.                                      10\n",
       "CalibrateRun - Run-type 'drs-gain' not found... trying 'default'.                                          10\n",
       "Set 5 individual thresholds.                                                                                9\n",
       "Set 3 individual thresholds.                                                                                3\n",
       "Set 7 individual thresholds.                                                                                3\n",
       "Set 6 individual thresholds.                                                                                3\n",
       "Measured average current 40.8uA +- 1.42uA [N=8]... mininum threshold set to 671                             2\n",
       "CalibrateRun - Run-type 'single-pe' not found... trying 'default'.                                          2\n",
       "Measured average current 4.67uA +- 0.0197uA [N=7]... mininum threshold set to 290                           1\n",
       "Measured average current 39.5uA +- 0.0496uA [N=7]... mininum threshold set to 662                           1\n",
       "                                                                                                         ... \n",
       "Measured average current 32.1uA +- 0.194uA [N=7]... mininum threshold set to 610                            1\n",
       "Measured average current 64.2uA +- 0.225uA [N=7]... mininum threshold set to 801                            1\n",
       "Measured average current 43.4uA +- 0.0786uA [N=7]... mininum threshold set to 687                           1\n",
       "Measured average current 42.7uA +- 0.379uA [N=7]... mininum threshold set to 683                            1\n",
       "Measured average current 4.55uA +- 0.112uA [N=13]... mininum threshold set to 290                           1\n",
       "Measured average current 38.9uA +- 0.367uA [N=8]... mininum threshold set to 658                            1\n",
       "Measured average current 5.48uA +- 0.0202uA [N=7]... mininum threshold set to 305                           1\n",
       "Measured average current 42.2uA +- 0.0599uA [N=7]... mininum threshold set to 679                           1\n",
       "Measured average current 22.2uA +- 0.527uA [N=8]... mininum threshold set to 528                            1\n",
       "Measured average current 39.4uA +- 1.42uA [N=8]... mininum threshold set to 662                             1\n",
       "Measured average current 42.9uA +- 0.0385uA [N=7]... mininum threshold set to 684                           1\n",
       "Measured average current 4.45uA +- 0.0188uA [N=7]... mininum threshold set to 290                           1\n",
       "Measured average current 4.53uA +- 0.0227uA [N=7]... mininum threshold set to 290                           1\n",
       "Measured average current 76.8uA +- 0.472uA [N=7]... mininum threshold set to 860                            1\n",
       "Measured average current 43.4uA +- 0.362uA [N=7]... mininum threshold set to 687                            1\n",
       "Measured average current 5.52uA +- 0.0432uA [N=7]... mininum threshold set to 306                           1\n",
       "Measured average current 4.56uA +- 0.032uA [N=7]... mininum threshold set to 290                            1\n",
       "Measured average current 51.1uA +- 0.076uA [N=10]... mininum threshold set to 732                           1\n",
       "Measured average current 33uA +- 0.345uA [N=7]... mininum threshold set to 617                              1\n",
       "Measured average current 35.9uA +- 0.756uA [N=7]... mininum threshold set to 638                            1\n",
       "Measured average current 17.6uA +- 0.0582uA [N=7]... mininum threshold set to 482                           1\n",
       "Measured average current 4.65uA +- 0.0236uA [N=7]... mininum threshold set to 290                           1\n",
       "Measured average current 4.58uA +- 0.0262uA [N=7]... mininum threshold set to 290                           1\n",
       "Measured average current 42.2uA +- 0.194uA [N=7]... mininum threshold set to 680                            1\n",
       "Measured average current 4.56uA +- 0.0222uA [N=7]... mininum threshold set to 290                           1\n",
       "Measured average current 41.9uA +- 0.23uA [N=7]... mininum threshold set to 678                             1\n",
       "Measured average current 28.6uA +- 0.16uA [N=7]... mininum threshold set to 583                             1\n",
       "Measured average current 18.1uA +- 0.101uA [N=7]... mininum threshold set to 488                            1\n",
       "Measured average current 41.7uA +- 0.0356uA [N=7]... mininum threshold set to 676                           1\n",
       "Measured average current 56.7uA +- 0.341uA [N=7]... mininum threshold set to 763                            1\n",
       "Name: message, dtype: int64"
      ]
     },
     "execution_count": 24,
     "metadata": {},
     "output_type": "execute_result"
    }
   ],
   "source": [
    "rate_infos = non_error_or_warning.query(\"server == 'RATE_CONTROL'\")\n",
    "rate_infos.message.value_counts()"
   ]
  },
  {
   "cell_type": "markdown",
   "metadata": {},
   "source": [
    "Okay ... these \"Measured average current [...] mininum threshold set to\" look suspiciously like debuging output. ... Are we developing ratecontrol at the moment? Let me try and filter out some of them"
   ]
  },
  {
   "cell_type": "code",
   "execution_count": 25,
   "metadata": {
    "collapsed": false
   },
   "outputs": [
    {
     "data": {
      "text/plain": [
       "Stop received.                                                                                            176\n",
       "Connected[4] by ExecFunc function-call (STOP)                                                             176\n",
       "State Transition from GlobalThresholdSet[6] to InProgress[7] (by Execute-command)                         135\n",
       "InProgress[7] by Execute-command                                                                          135\n",
       "Calibrating[5] by ExecFunc function-call (CALIBRATE_RUN)                                                  134\n",
       "State Transition from Connected[4] to Calibrating[5] (by ExecFunc function-call: CALIBRATE_RUN)           134\n",
       "Rate calibration by current with min. threshold of 290.                                                   134\n",
       "GlobalThresholdSet[6] by ExecFunc function-call (STATIC_DATA)                                             134\n",
       "State Transition from Calibrating[5] to GlobalThresholdSet[6] (by ExecFunc function-call: STATIC_DATA)    134\n",
       "State Transition from InProgress[7] to Connected[4] (by ExecFunc function-call: STOP)                     108\n",
       "GlobalThresholdSet[6] by ExecFunc function-call (CALIBRATE_RUN)                                            70\n",
       "State Transition from Connected[4] to GlobalThresholdSet[6] (by ExecFunc function-call: CALIBRATE_RUN)     70\n",
       "No calibration requested.                                                                                  69\n",
       "State Transition from GlobalThresholdSet[6] to Connected[4] (by ExecFunc function-call: STOP)              68\n",
       "CalibrateRun - Run-type 'pedestal' not found... trying 'default'.                                          45\n",
       "Connected[4] by Execute-command                                                                            28\n",
       "State Transition from InProgress[7] to Connected[4] (by Execute-command)                                   27\n",
       "CalibrateRun - Run-type 'drs-gain' not found... trying 'default'.                                          10\n",
       "CalibrateRun - Run-type 'drs-pedestal' not found... trying 'default'.                                      10\n",
       "CalibrateRun - Run-type 'single-pe' not found... trying 'default'.                                          2\n",
       "CalibrateRun - Run-type 'drs-time' not found... trying 'default'.                                           1\n",
       "CalibrateRun - Run-type 'light-pulser-ext' not found... trying 'default'.                                   1\n",
       "State Transition from GlobalThresholdSet[6] to Connected[4] (by Execute-command)                            1\n",
       "Physics trigger not enabled... CALIBRATE command ignored.                                                   1\n",
       "Name: message, dtype: int64"
      ]
     },
     "execution_count": 25,
     "metadata": {},
     "output_type": "execute_result"
    }
   ],
   "source": [
    "rate_infos = rate_infos[~rate_infos.message.str.startswith(\"Measured average current\")]\n",
    "rate_infos = rate_infos[~rate_infos.message.str.contains(\"individual thresholds\")]\n",
    "rate_infos.message.value_counts()"
   ]
  },
  {
   "cell_type": "markdown",
   "metadata": {},
   "source": [
    "See that? These messages containing \"Run-type * not found\", I think this sounds a bit like it is actually a warning. At least I would like to know what is going on there, because to me this sounds like RATE_CONTROL was searching in the configuration DB for some settings regarding a certain run-type and could not find any, thus falling back to default settings. And I wonder if the default settings arw actually apropriate for each of those run-types... \n",
    "\n",
    "Experts, could you please comment on that? I'm sure it just sounds bad, since we are running like this for quite some time now. But maybe you can clarify what it means."
   ]
  },
  {
   "cell_type": "code",
   "execution_count": 26,
   "metadata": {
    "collapsed": false
   },
   "outputs": [
    {
     "data": {
      "text/plain": [
       "T=26.9C Tmin=26.3C Tmax=28.2C                                119\n",
       "T=26.8C Tmin=26.3C Tmax=28.2C                                103\n",
       "T=27.5C Tmin=26.3C Tmax=27.7C                                102\n",
       "T=27.4C Tmin=26.3C Tmax=27.7C                                101\n",
       "T=27.3C Tmin=26.3C Tmax=27.7C                                 97\n",
       "T=26.7C Tmin=26.3C Tmax=28.2C                                 86\n",
       "T=27C Tmin=26.3C Tmax=28.2C                                   82\n",
       "T=27.1C Tmin=26.3C Tmax=27.7C                                 68\n",
       "T=27.2C Tmin=26.3C Tmax=27.7C                                 68\n",
       "T=26.6C Tmin=26.3C Tmax=28.2C                                 51\n",
       "T=27.1C Tmin=26.3C Tmax=28.2C                                 48\n",
       "T=27.4C Tmin=26.3C Tmax=27.8C                                 43\n",
       "T=27.3C Tmin=26.3C Tmax=28.2C                                 35\n",
       "T=27.2C Tmin=26.3C Tmax=27.8C                                 34\n",
       "T=27.3C Tmin=26.3C Tmax=27.8C                                 33\n",
       "T=27C Tmin=26.3C Tmax=27.7C                                   32\n",
       "T=26.9C Tmin=26.3C Tmax=27.7C                                 30\n",
       "T=26.7C Tmin=26.3C Tmax=27.7C                                 28\n",
       "T=27.2C Tmin=26.3C Tmax=28.2C                                 28\n",
       "T=26.8C Tmin=26.3C Tmax=27.7C                                 26\n",
       "T=27.1C Tmin=26.3C Tmax=27.8C                                 25\n",
       "T=27.5C Tmin=26.3C Tmax=28.2C                                 24\n",
       "T=27.6C Tmin=26.3C Tmax=27.7C                                 24\n",
       "T=27.5C Tmin=26.3C Tmax=27.8C                                 22\n",
       "T=27.4C Tmin=26.3C Tmax=28.2C                                 21\n",
       "T=26.6C Tmin=26.3C Tmax=27.7C                                 18\n",
       "T=27.6C Tmin=26.3C Tmax=28.2C                                  9\n",
       "State Transition from Connected[2] to Valid[3] (by Run())      8\n",
       "Valid[3] by Run()                                              8\n",
       "T=26.5C Tmin=26.3C Tmax=28.2C                                  8\n",
       "Connected[2] by Run()                                          8\n",
       "State Transition from Valid[3] to Connected[2] (by Run())      8\n",
       "T=27C Tmin=26.3C Tmax=27.8C                                    7\n",
       "T=26.5C Tmin=26.3C Tmax=27.7C                                  3\n",
       "T=26.7C Tmin=26.4C Tmax=27.7C                                  2\n",
       "T=27.6C Tmin=26.3C Tmax=27.8C                                  2\n",
       "T=26.3C Tmin=26.3C Tmax=27.7C                                  1\n",
       "T=26.4C Tmin=26.3C Tmax=28.2C                                  1\n",
       "T=27.7C Tmin=26.3C Tmax=28.2C                                  1\n",
       "T=26.4C Tmin=26.3C Tmax=27.7C                                  1\n",
       "T=26.4C Tmin=26.4C Tmax=27.7C                                  1\n",
       "Name: message, dtype: int64"
      ]
     },
     "execution_count": 26,
     "metadata": {},
     "output_type": "execute_result"
    }
   ],
   "source": [
    "non_error_or_warning.query(\"server == 'TEMPERATURE'\").message.value_counts()"
   ]
  },
  {
   "cell_type": "markdown",
   "metadata": {},
   "source": [
    "And here we have again our friend the txt-backup for fits aux files. Maybe this can be switched off as well?\n",
    "\n",
    "Dear friends .. if you made it this far ... hold tight ... we're nearly there! :-D"
   ]
  },
  {
   "cell_type": "code",
   "execution_count": 27,
   "metadata": {
    "collapsed": false
   },
   "outputs": [
    {
     "data": {
      "text/plain": [
       "Voltage stable within limits                                                     114\n",
       "Waiting for voltage to be stable.                                                114\n",
       "Stoping feedback.                                                                 51\n",
       "Switching voltage to Uov=1.1V.                                                    31\n",
       "Switching voltage to Uov=0V.                                                      30\n",
       "Starting calibration.                                                             29\n",
       "Pointing telescope to 'Mrk 421' [wobble=2]                                         9\n",
       "Voltage off.                                                                       9\n",
       "Switching voltage off.                                                             9\n",
       "Pointing telescope to 'Mrk 421' [wobble=1]                                         8\n",
       "Starting DRS calibration [data]                                                    7\n",
       "Last DRS calibration was 12.3min ago                                               4\n",
       "JavaScript Engine V8 3.7.12.22                                                     4\n",
       "Pointing telescope to 'Mrk 501' [wobble=1]                                         4\n",
       "Pointing telescope to 'Mrk 501' [wobble=2]                                         4\n",
       "Last DRS calibration was 7.2min ago                                                4\n",
       "Last DRS calibration was 38.1min ago                                               3\n",
       "Last DRS calibration was 17.3min ago                                               2\n",
       "Camera response: 0/OK                                                              2\n",
       "Loading[1] 0:scripts/Main.js[dneise:13550]                                         2\n",
       "Last DRS calibration was 22.5min ago                                               2\n",
       "Last DRS calibration was 12.6min ago                                               2\n",
       "Running[3] 1:scripts/Main.js[dneise:13550]                                         2\n",
       "State Transition from Idle[0] to Loading[1] (0:scripts/Main.js[dneise:13550])      2\n",
       "Starting new observation [Thu, 17 Mar 2016 21:13:00 GMT, id=19110]                 2\n",
       "Taking single p.e. run.                                                            2\n",
       "Last DRS calibration was 17.7min ago                                               2\n",
       "Last DRS calibration was 74.4min ago                                               2\n",
       "Last DRS calibration was 33.1min ago                                               2\n",
       "Last DRS calibration was 53.7min ago                                               2\n",
       "                                                                                ... \n",
       "Take run  75: N=-1 T=300s [data]                                                   1\n",
       "Running[3] 1:scripts/doDriveToggle.js[dneise:13550]                                1\n",
       "Last DRS calibration was 84.5min ago                                               1\n",
       "Run count 26 [remaining 33min]                                                     1\n",
       "Take run 163: N=1000 T=-1s [drs-pedestal]                                          1\n",
       "Take run  73: N=-1 T=300s [data]                                                   1\n",
       "Run count 28 [remaining 23min]                                                     1\n",
       "Last DRS calibration was 59.1min ago                                               1\n",
       "Run count 40 [remaining 147min]                                                    1\n",
       "Take run 162: N=-1 T=300s [data]                                                   1\n",
       "Take run 126: N=-1 T=300s [data]                                                   1\n",
       "Last DRS calibration was 59.7min ago                                               1\n",
       "Take run 134: N=1000 T=-1s [pedestal]                                              1\n",
       "Last DRS calibration was 33.2min ago                                               1\n",
       "Run count 1 [remaining 54min]                                                      1\n",
       "Lid open [21.6s]                                                                   1\n",
       "Run count 48 [remaining 106min]                                                    1\n",
       "Take run  26: N=-1 T=60s [data]                                                    1\n",
       "Run count 29 [remaining 207min]                                                    1\n",
       "Last DRS calibration was 90.5min ago                                               1\n",
       "Lid closed [19.1s]                                                                 1\n",
       "Run count 19 [remaining 69min]                                                     1\n",
       "Loading[1] 0:scripts/doDriveUnlock.js[dneise:13550]                                1\n",
       "Take run  38: N=-1 T=300s [data]                                                   1\n",
       "Take run 169: N=-1 T=300s [data]                                                   1\n",
       "Run count 23 [remaining 238min]                                                    1\n",
       "Last DRS calibration was 33.3min ago                                               1\n",
       "Last DRS calibration was 84.6min ago                                               1\n",
       "Take run 100: N=1000 T=-1s [pedestal]                                              1\n",
       "Take run  59: N=-1 T=300s [data]                                                   1\n",
       "Name: message, dtype: int64"
      ]
     },
     "execution_count": 27,
     "metadata": {},
     "output_type": "execute_result"
    }
   ],
   "source": [
    "non_error_or_warning.query(\"server == 'DIM_CONTROL'\").message.value_counts()"
   ]
  },
  {
   "cell_type": "markdown",
   "metadata": {},
   "source": [
    "Well this is our high level log and I guess one can learn a lot from it, not by counting, but maybe by measuring times betwenn certain things... then again ... all these run times are in the RunDB and we can also analyze that. \n",
    "\n",
    "I am not sure at the moment how this could be included in a shift summary ... maybe somebody else has an idea?"
   ]
  },
  {
   "cell_type": "code",
   "execution_count": 28,
   "metadata": {
    "collapsed": false
   },
   "outputs": [
    {
     "data": {
      "text/plain": [
       "New axis status[3]: DKC-Ready RF PowerOn                                                        64\n",
       "New axis status[1]: DKC-Ready RF PowerOn                                                        63\n",
       "IndraDrive Zd [a0010]: Drive HALT.                                                              49\n",
       "IndraDrive Zd [a0151]: Drive controlled positioning with encoder 1, lagless.                    48\n",
       "IndraDrive Az [a0010]: Drive HALT.                                                              32\n",
       "IndraDrive Az [a0151]: Drive controlled positioning with encoder 1, lagless.                    31\n",
       "Stopping[9] by ExecFunc function-call (STOP)                                                    30\n",
       "State Transition from Stopping[9] to Armed[7] (by Run())                                        30\n",
       "Armed[7] by Run()                                                                               30\n",
       "New axis status[1]: DKC-Ready RpmMode RF PowerOn                                                29\n",
       "Tracking[12] by Run()                                                                           29\n",
       "New axis status[3]: DKC-Ready RpmMode RF PowerOn                                                29\n",
       "State Transition from Moving[11] to Tracking[12] (by Run())                                     29\n",
       "State Transition from Initialized[8] to Moving[11] (by ExecFunc function-call: TRACK_WOBBLE)    28\n",
       "Initialized[8] by HandleTrigger()                                                               28\n",
       "Moving[11] by ExecFunc function-call (TRACK_WOBBLE)                                             28\n",
       "State Transition from OnTrack[13] to Stopping[9] (by ExecFunc function-call: STOP)              28\n",
       "State Transition from Armed[7] to Initialized[8] (by HandleTrigger())                           28\n",
       "OnTrack[13] by HandleTrigger()                                                                  24\n",
       "State Transition from Tracking[12] to OnTrack[13] (by HandleTrigger())                          24\n",
       "Tracking Ra=11.0743h Dec=38.2088deg [Mrk 421]                                                   17\n",
       "New axis status[3]: DKC-Ready Moving RF PowerOn                                                 16\n",
       "New axis status[1]: DKC-Ready Moving RF PowerOn                                                 16\n",
       "Start tracking at Ra=11.0234h Dec=38.2063deg                                                     9\n",
       "Tracking Ra=16.8979h Dec=39.7602deg [Mrk 501]                                                    8\n",
       "Start tracking at Ra=11.1252h Dec=38.2063deg                                                     8\n",
       "OnTrack[13] by Run()                                                                             5\n",
       "State Transition from Tracking[12] to OnTrack[13] (by Run())                                     5\n",
       "Start tracking at Ra=16.8782h Dec=40.3161deg                                                     4\n",
       "Start tracking at Ra=16.9172h Dec=39.2035deg                                                     4\n",
       "                                                                                                ..\n",
       "State Transition from OnTrack[13] to Parking[10] (by ExecFunc function-call: PARK)               1\n",
       "Tracking position now at Zd=16.9998deg Az=-52.1949deg                                            1\n",
       "Moving to encoder Zd=36.2372deg Az=65.094deg                                                     1\n",
       "IndraDrive Az [a4000]: Automatic drive check and adjustment.                                     1\n",
       "Moving to encoder Zd=11.5715deg Az=28.7371deg                                                    1\n",
       "Parking telescope at Zd=101deg Az=0deg                                                           1\n",
       "IndraDrive Zd [0]: offline.                                                                      1\n",
       "Tracking position now at Zd=11.9344deg Az=27.4285deg                                             1\n",
       "IndraDrive Zd [a4000]: Automatic drive check and adjustment.                                     1\n",
       "Tracking position now at Zd=14.9735deg Az=36.6326deg                                             1\n",
       "Moving to encoder Zd=19.8475deg Az=58.162deg                                                     1\n",
       "Tracking position now at Zd=23.3642deg Az=59.673deg                                              1\n",
       "Moving to encoder Zd=8.99522deg Az=2.25023deg                                                    1\n",
       "Moving to encoder Zd=22.9873deg Az=60.9944deg                                                    1\n",
       "Connection established to 192.168.1.2:5357...                                                    1\n",
       "Moving to encoder Zd=24.7274deg Az=-59.5027deg                                                   1\n",
       "State Transition from Locked[3] to Unavailable[4] (by ExecFunc function-call: UNLOCK)            1\n",
       "Moving to encoder Zd=100.586deg Az=1.29111deg                                                    1\n",
       "Moving to encoder Zd=8.57784deg Az=72.4951deg                                                    1\n",
       "Tracking position now at Zd=27.9662deg Az=-62.1146deg                                            1\n",
       "Tracking position now at Zd=13.1858deg Az=41.9351deg                                             1\n",
       "Tracking position now at Zd=28.5152deg Az=62.3126deg                                             1\n",
       "Moving residual of dZd=-3.39734' dAz=-2.29721'                                                   1\n",
       "Moving residual of dZd=3.32866' dAz=-1.07321'                                                    1\n",
       "Tracking position now at Zd=9.3544deg Az=0.962105deg                                             1\n",
       "Tracking position now at Zd=31.3623deg Az=63.1032deg                                             1\n",
       "Tracking position now at Zd=51.0782deg Az=-68.3479deg                                            1\n",
       "Tracking position now at Zd=21.4191deg Az=51.6441deg                                             1\n",
       "Moving to encoder Zd=50.6705deg Az=-67.062deg                                                    1\n",
       "Moving residual of dZd=-1.92134' dAz=-0.551206'                                                  1\n",
       "Name: message, dtype: int64"
      ]
     },
     "execution_count": 28,
     "metadata": {},
     "output_type": "execute_result"
    }
   ],
   "source": [
    "non_error_or_warning.query(\"server == 'DRIVE_CONTROL'\").message.value_counts()"
   ]
  },
  {
   "cell_type": "markdown",
   "metadata": {},
   "source": [
    "I guess we need to get rid of all the numbers in the messages, if we want to quickly see if there are any suspicious messages in this list. At the moment I am too tired to do this."
   ]
  },
  {
   "cell_type": "code",
   "execution_count": 29,
   "metadata": {
    "collapsed": false
   },
   "outputs": [
    {
     "data": {
      "text/plain": [
       "Logging[40] AddNewRunNumber       196\n",
       "WaitForRun[30] AddNewRunNumber    196\n",
       "Name: message, dtype: int64"
      ]
     },
     "execution_count": 29,
     "metadata": {},
     "output_type": "execute_result"
    }
   ],
   "source": [
    "non_error_or_warning.query(\"server == 'DATA_LOGGER'\").message.value_counts()"
   ]
  },
  {
   "cell_type": "code",
   "execution_count": 30,
   "metadata": {
    "collapsed": false
   },
   "outputs": [
    {
     "name": "stdout",
     "output_type": "stream",
     "text": [
      "pattern.................................: count     | cumulative count\n",
      "State Transition from Logging...........: 196       | 196       \n",
      "State Transition from WaitForRun........: 196       | 392       \n",
      "Opened..................................: 97        | 489       \n",
      "total length: 489\n"
     ]
    }
   ],
   "source": [
    "datalogger_infos = non_error_or_warning.query(\"server == 'datalogger'\")\n",
    "cumulative_count = 0\n",
    "format_template = \"{0:.<40}: {1:<10}| {2:<10}\"\n",
    "print(format_template.format(\"pattern\", \"count\", \"cumulative count\"))\n",
    "for pattern in [\n",
    "        \"State Transition from Logging\", \n",
    "        \"State Transition from WaitForRun\", \n",
    "        \"Opened\"]:\n",
    "    count = (datalogger_infos.message.str.contains(pattern)).sum()\n",
    "    cumulative_count += count\n",
    "    print(format_template.format(\n",
    "            pattern, count, cumulative_count))\n",
    "print(\"total length:\", len(datalogger_infos))"
   ]
  },
  {
   "cell_type": "code",
   "execution_count": 31,
   "metadata": {
    "collapsed": false
   },
   "outputs": [
    {
     "data": {
      "text/plain": [
       "Calling 'ntpdate -q hora.roa.es'      93\n",
       "NTP: hora.roa.es returned: offset     93\n",
       "Name: message, dtype: int64"
      ]
     },
     "execution_count": 31,
     "metadata": {},
     "output_type": "execute_result"
    }
   ],
   "source": [
    "non_error_or_warning.query(\"server == 'TIME_CHECK'\").message.str.slice(0, 34).value_counts()"
   ]
  },
  {
   "cell_type": "code",
   "execution_count": 32,
   "metadata": {
    "collapsed": false
   },
   "outputs": [
    {
     "data": {
      "text/plain": [
       "Triggers so far: 378 (0.0514344)      2\n",
       "Triggers so far: 112 (0.0944911)      2\n",
       "Triggers so far: 157 (0.0798087)      2\n",
       "Triggers so far: 276 (0.0601929)      2\n",
       "Triggers so far: 316 (0.0562544)      2\n",
       "Triggers so far: 196 (0.0714286)      1\n",
       "Triggers so far: 57 (0.132453)        1\n",
       "90 1.24812e+07                        1\n",
       "Triggers so far: 243 (0.06415)        1\n",
       "Triggers so far: 239 (0.0646846)      1\n",
       "50 1.25734e+07                        1\n",
       "Triggers so far: 86 (0.107833)        1\n",
       "Triggers so far: 69 (0.120386)        1\n",
       "Triggers so far: 263 (0.0616626)      1\n",
       "Triggers so far: 284 (0.0593391)      1\n",
       "360 9.48863e+06                       1\n",
       "Triggers so far: 44 (0.150756)        1\n",
       "Triggers so far: 369 (0.0520579)      1\n",
       "460 661380                            1\n",
       "Triggers so far: 92 (0.104257)        1\n",
       "Triggers so far: 216 (0.0680414)      1\n",
       "Rate scan finished.                   1\n",
       "550 31584                             1\n",
       "Triggers so far: 63 (0.125988)        1\n",
       "Triggers so far: 143 (0.0836242)      1\n",
       "260 2.19426e+07                       1\n",
       "Triggers so far: 135 (0.0860663)      1\n",
       "State Transition from InProgress[6    1\n",
       "Triggers so far: 40 (0.158114)        1\n",
       "340 1.32056e+07                       1\n",
       "                                     ..\n",
       "610 3370                              1\n",
       "80 1.23469e+07                        1\n",
       "380 6.16524e+06                       1\n",
       "120 1.33388e+07                       1\n",
       "Triggers so far: 258 (0.0622573)      1\n",
       "Triggers so far: 101 (0.0995037)      1\n",
       "640 1003                              1\n",
       "Triggers so far: 121 (0.0909091)      1\n",
       "470 480407                            1\n",
       "Triggers so far: 26 (0.196116)        1\n",
       "Triggers so far: 330 (0.0550482)      1\n",
       "Triggers so far: 48 (0.144338)        1\n",
       "160 1.53995e+07                       1\n",
       "Triggers so far: 334 (0.0547176)      1\n",
       "490 256714                            1\n",
       "210 1.90225e+07                       1\n",
       "110 1.29741e+07                       1\n",
       "320 1.70224e+07                       1\n",
       "150 1.48008e+07                       1\n",
       "330 1.5182e+07                        1\n",
       "Triggers so far: 35 (0.169031)        1\n",
       "Triggers so far: 315 (0.0563436)      1\n",
       "700 102                               1\n",
       "370 7.71741e+06                       1\n",
       "180 1.67334e+07                       1\n",
       "Triggers so far: 64 (0.125)           1\n",
       "450 909905                            1\n",
       "Triggers so far: 333 (0.0547997)      1\n",
       "Triggers so far: 178 (0.0749532)      1\n",
       "500 182366                            1\n",
       "Name: message, dtype: int64"
      ]
     },
     "execution_count": 32,
     "metadata": {},
     "output_type": "execute_result"
    }
   ],
   "source": [
    "non_error_or_warning.query(\"server == 'RATE_SCAN'\").message.str.slice(0, 34).value_counts()"
   ]
  },
  {
   "cell_type": "markdown",
   "metadata": {},
   "source": [
    "this is logged as well right? The \"triggers so far\" can be taken from FTM reports, right? \n"
   ]
  },
  {
   "cell_type": "code",
   "execution_count": 33,
   "metadata": {
    "collapsed": false
   },
   "outputs": [
    {
     "data": {
      "text/plain": [
       "Trying to connect to 10.0.128.127:5000...                           12\n",
       "Connection established to 10.0.128.127:5000...                      11\n",
       "Connection closed to 10.0.128.127:5000.                             11\n",
       "Connected[2] by Run()                                                2\n",
       "State Transition from Disconnected[1] to Connected[2] (by Run())     2\n",
       "State Transition from Connected[2] to Disconnected[1] (by Run())     2\n",
       "Disconnected[1] by Run()                                             2\n",
       "Name: message, dtype: int64"
      ]
     },
     "execution_count": 33,
     "metadata": {},
     "output_type": "execute_result"
    }
   ],
   "source": [
    "non_error_or_warning.query(\"server == 'FSC_CONTROL'\").message.value_counts()"
   ]
  },
  {
   "cell_type": "code",
   "execution_count": 34,
   "metadata": {
    "collapsed": false
   },
   "outputs": [
    {
     "data": {
      "text/plain": [
       "Moving[10] by ExecFunc function-call (CLOSE)                                       2\n",
       "State Transition from Moving[10] to Closed[8] (by Run())                           2\n",
       "State Transition from Open[9] to Moving[10] (by ExecFunc function-call: CLOSE)     2\n",
       "Closed[8] by Run()                                                                 2\n",
       "State Transition from Moving[10] to Open[9] (by Run())                             2\n",
       "Open[9] by Run()                                                                   2\n",
       "Moving[10] by ExecFunc function-call (OPEN)                                        2\n",
       "State Transition from Closed[8] to Moving[10] (by ExecFunc function-call: OPEN)    2\n",
       "Name: message, dtype: int64"
      ]
     },
     "execution_count": 34,
     "metadata": {},
     "output_type": "execute_result"
    }
   ],
   "source": [
    "non_error_or_warning.query(\"server == 'LID_CONTROL'\").message.value_counts()"
   ]
  },
  {
   "cell_type": "code",
   "execution_count": 35,
   "metadata": {
    "collapsed": false
   },
   "outputs": [
    {
     "data": {
      "text/plain": [
       "Dust: 19.2ug/m^3 [2016-Mar-17 16:12:12]     1\n",
       "Dust: 1.57ug/m^3 [2016-Mar-18 06:06:54]     1\n",
       "Dust: 1.64ug/m^3 [2016-Mar-18 00:06:32]     1\n",
       "Dust: 4.25ug/m^3 [2016-Mar-17 20:07:21]     1\n",
       "Dust: 0.737ug/m^3 [2016-Mar-17 22:06:26]    1\n",
       "Dust: 0.558ug/m^3 [2016-Mar-18 04:06:47]    1\n",
       "Dust: 18.4ug/m^3 [2016-Mar-17 12:11:58]     1\n",
       "Dust: 6.81ug/m^3 [2016-Mar-17 18:07:16]     1\n",
       "Dust: 0.454ug/m^3 [2016-Mar-18 02:06:38]    1\n",
       "Dust: 19ug/m^3 [2016-Mar-17 14:12:03]       1\n",
       "Dust: 9.51ug/m^3 [2016-Mar-17 08:11:48]     1\n",
       "Dust: 18.7ug/m^3 [2016-Mar-17 10:11:52]     1\n",
       "Name: message, dtype: int64"
      ]
     },
     "execution_count": 35,
     "metadata": {},
     "output_type": "execute_result"
    }
   ],
   "source": [
    "non_error_or_warning.query(\"server == 'TNG_WEATHER'\").message.value_counts()"
   ]
  },
  {
   "cell_type": "markdown",
   "metadata": {},
   "source": [
    "... this is logged to an aux file as well, right?"
   ]
  },
  {
   "cell_type": "code",
   "execution_count": 36,
   "metadata": {
    "collapsed": false
   },
   "outputs": [
    {
     "data": {
      "text/plain": [
       "File /daq/aux/2016/03/16/20160316.FAD_CONTROL_EVENT_DATA.fits open.    6\n",
       "State Transition from Standby[2] to Running[3] (by Execute-command)    1\n",
       "Standby[2] by Execute-command                                          1\n",
       "Running[3] by Execute-command                                          1\n",
       "State Transition from Running[3] to Standby[2] (by Execute-command)    1\n",
       "Name: message, dtype: int64"
      ]
     },
     "execution_count": 36,
     "metadata": {},
     "output_type": "execute_result"
    }
   ],
   "source": [
    "non_error_or_warning.query(\"server == 'EVENT_SERVER'\").message.value_counts()"
   ]
  },
  {
   "cell_type": "code",
   "execution_count": 37,
   "metadata": {
    "collapsed": false
   },
   "outputs": [
    {
     "data": {
      "text/plain": [
       "Valid[3] by Run()                                                      1\n",
       "State Transition from Connected[2] to Valid[3] (by Run())              1\n",
       "State Transition from Valid[3] to Connected[2] (by HandleTrigger())    1\n",
       "Connected[2] by HandleTrigger()                                        1\n",
       "Name: message, dtype: int64"
      ]
     },
     "execution_count": 37,
     "metadata": {},
     "output_type": "execute_result"
    }
   ],
   "source": [
    "non_error_or_warning.query(\"server == 'GCN'\").message.value_counts()"
   ]
  },
  {
   "cell_type": "code",
   "execution_count": 38,
   "metadata": {
    "collapsed": false
   },
   "outputs": [
    {
     "data": {
      "text/plain": [
       "State Transition from SystemOn[28] to DriveOff[12] (by Run())    1\n",
       "SystemOn[28] by Run()                                            1\n",
       "State Transition from DriveOff[12] to SystemOn[28] (by Run())    1\n",
       "DriveOff[12] by Run()                                            1\n",
       "Name: message, dtype: int64"
      ]
     },
     "execution_count": 38,
     "metadata": {},
     "output_type": "execute_result"
    }
   ],
   "source": [
    "non_error_or_warning.query(\"server == 'PWR_CONTROL'\").message.value_counts()"
   ]
  },
  {
   "cell_type": "code",
   "execution_count": 39,
   "metadata": {
    "collapsed": false
   },
   "outputs": [
    {
     "data": {
      "text/plain": [
       "Series([], Name: message, dtype: int64)"
      ]
     },
     "execution_count": 39,
     "metadata": {},
     "output_type": "execute_result"
    }
   ],
   "source": [
    "non_error_or_warning.query(\"server == 'MAGIC_LIDAR'\").message.value_counts()"
   ]
  },
  {
   "cell_type": "markdown",
   "metadata": {},
   "source": [
    "Okay .. we're done. We have had a look at the entire log-file of tonight.... I think we are still far away from being able to convert the logfile into a **short** part of the entire shift summary. But I think we have found quite some potential for shortening. \n",
    "\n",
    "For tomorrows logfile summary, I will try to write little functions, one for every server, which basically contains \"what I think is interesting and how to show it\". By writing this \"opinion\" into a little function, I basically create a documentation for the behaviour of a certain server.\n",
    "\n",
    "Assume there was a function called `summarize_datalogger()` which looked like this:\n",
    "\n",
    "    cumulative_count = 0\n",
    "    for pattern in [\n",
    "            \"State Transition from Logging\", \n",
    "            \"State Transition from WaitForRun\", \n",
    "            \"Opened\"]:\n",
    "        count = (datalogger_infos.message.str.contains(pattern)).sum()\n",
    "        cumulative_count += count\n",
    "        print(\"{0:.<40}: {1} {2}\".format(\n",
    "                pattern, count, cumulative_count))\n",
    "    print(\"total length:\", len(datalogger_infos))\n",
    "\n",
    "    if cumulative_count != len(datalogger_infos):\n",
    "        print(\"Note! There  were more messages in the datalogger info than the typical 3\")\n",
    "\n",
    "And assume further I left the collaboration. Then whoever reads this code, can immedieatly see, what former FACTies believed was normal behaviour for the datalogger and what not.\n",
    "\n",
    "So by creating a collection of functions, which provide some sort of summary, we also provide some sort of documentation of expected behaviour. And I think this is very worthwhile. Actually it is certainly not me, who is best suited of writing these summary functions, but never the less, I will start doing so. \n",
    "\n",
    "Best suited would be probably every subsystem expert... So if you feel, that I am doing a bad job here, please alter these functions the way you like.\n",
    "\n",
    "Thanks for reading this far... :-D ... writing it was also not fun, believe me."
   ]
  }
 ],
 "metadata": {
  "kernelspec": {
   "display_name": "Python 3",
   "language": "python",
   "name": "python3"
  },
  "language_info": {
   "codemirror_mode": {
    "name": "ipython",
    "version": 3
   },
   "file_extension": ".py",
   "mimetype": "text/x-python",
   "name": "python",
   "nbconvert_exporter": "python",
   "pygments_lexer": "ipython3",
   "version": "3.5.1"
  }
 },
 "nbformat": 4,
 "nbformat_minor": 0
}
