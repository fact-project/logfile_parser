{
 "cells": [
  {
   "cell_type": "markdown",
   "metadata": {},
   "source": [
    "# Example Usage"
   ]
  },
  {
   "cell_type": "code",
   "execution_count": 1,
   "metadata": {
    "collapsed": false
   },
   "outputs": [],
   "source": [
    "import pandas as pd\n",
    "import logfile_parser\n",
    "df = logfile_parser.logfile2dataframe(\"20150106.log\")"
   ]
  },
  {
   "cell_type": "code",
   "execution_count": 2,
   "metadata": {
    "collapsed": false
   },
   "outputs": [
    {
     "data": {
      "text/html": [
       "<div>\n",
       "<table border=\"1\" class=\"dataframe\">\n",
       "  <thead>\n",
       "    <tr style=\"text-align: right;\">\n",
       "      <th></th>\n",
       "      <th>severity</th>\n",
       "      <th>server</th>\n",
       "      <th>state</th>\n",
       "      <th>message</th>\n",
       "    </tr>\n",
       "    <tr>\n",
       "      <th>time</th>\n",
       "      <th></th>\n",
       "      <th></th>\n",
       "      <th></th>\n",
       "      <th></th>\n",
       "    </tr>\n",
       "  </thead>\n",
       "  <tbody>\n",
       "    <tr>\n",
       "      <th>2015-01-06 08:04:47.568271</th>\n",
       "      <td>I</td>\n",
       "      <td>datalogger</td>\n",
       "      <td>NaN</td>\n",
       "      <td>Opened: /raid10/aux/2015/01/06/20150106.log</td>\n",
       "    </tr>\n",
       "    <tr>\n",
       "      <th>2015-01-06 08:04:47.570016</th>\n",
       "      <td>I</td>\n",
       "      <td>datalogger</td>\n",
       "      <td>NaN</td>\n",
       "      <td>Opened: /raid10/aux/2015/01/06/20150106.rep</td>\n",
       "    </tr>\n",
       "    <tr>\n",
       "      <th>2015-01-06 08:04:47.244000</th>\n",
       "      <td>I</td>\n",
       "      <td>DRIVE_CONTROL</td>\n",
       "      <td>NaN</td>\n",
       "      <td>Next sun-rise will be at 2015-Jan-07 08:04:54....</td>\n",
       "    </tr>\n",
       "    <tr>\n",
       "      <th>2015-01-06 08:04:47.574848</th>\n",
       "      <td>I</td>\n",
       "      <td>datalogger</td>\n",
       "      <td>NaN</td>\n",
       "      <td>Opened: /raid10/aux/2015/01/06/20150106.DRIVE_...</td>\n",
       "    </tr>\n",
       "    <tr>\n",
       "      <th>2015-01-06 08:04:47.581557</th>\n",
       "      <td>I</td>\n",
       "      <td>datalogger</td>\n",
       "      <td>NaN</td>\n",
       "      <td>Opened: /raid10/aux/2015/01/06/20150106.FTM_CO...</td>\n",
       "    </tr>\n",
       "  </tbody>\n",
       "</table>\n",
       "</div>"
      ],
      "text/plain": [
       "                           severity         server  state  \\\n",
       "time                                                        \n",
       "2015-01-06 08:04:47.568271        I     datalogger    NaN   \n",
       "2015-01-06 08:04:47.570016        I     datalogger    NaN   \n",
       "2015-01-06 08:04:47.244000        I  DRIVE_CONTROL    NaN   \n",
       "2015-01-06 08:04:47.574848        I     datalogger    NaN   \n",
       "2015-01-06 08:04:47.581557        I     datalogger    NaN   \n",
       "\n",
       "                                                                      message  \n",
       "time                                                                           \n",
       "2015-01-06 08:04:47.568271        Opened: /raid10/aux/2015/01/06/20150106.log  \n",
       "2015-01-06 08:04:47.570016        Opened: /raid10/aux/2015/01/06/20150106.rep  \n",
       "2015-01-06 08:04:47.244000  Next sun-rise will be at 2015-Jan-07 08:04:54....  \n",
       "2015-01-06 08:04:47.574848  Opened: /raid10/aux/2015/01/06/20150106.DRIVE_...  \n",
       "2015-01-06 08:04:47.581557  Opened: /raid10/aux/2015/01/06/20150106.FTM_CO...  "
      ]
     },
     "execution_count": 2,
     "metadata": {},
     "output_type": "execute_result"
    }
   ],
   "source": [
    "df.head()"
   ]
  },
  {
   "cell_type": "code",
   "execution_count": 3,
   "metadata": {
    "collapsed": false
   },
   "outputs": [
    {
     "data": {
      "text/plain": [
       "severity    category\n",
       "server      category\n",
       "state        float64\n",
       "message       object\n",
       "dtype: object"
      ]
     },
     "execution_count": 3,
     "metadata": {},
     "output_type": "execute_result"
    }
   ],
   "source": [
    "df.dtypes"
   ]
  },
  {
   "cell_type": "code",
   "execution_count": 4,
   "metadata": {
    "collapsed": false
   },
   "outputs": [
    {
     "data": {
      "text/plain": [
       "MAGIC_WEATHER    4537\n",
       "BIAS_CONTROL     2938\n",
       "DIM_CONTROL      1515\n",
       "TEMPERATURE      1440\n",
       "FSC_CONTROL       699\n",
       "FEEDBACK          451\n",
       "FAD_CONTROL       416\n",
       "MCP               403\n",
       "FTM_CONTROL       322\n",
       "datalogger        264\n",
       "TIME_CHECK        192\n",
       "RATE_CONTROL      140\n",
       "DRIVE_CONTROL     120\n",
       "RATE_SCAN          42\n",
       "MAGIC_LIDAR        36\n",
       "LID_CONTROL        32\n",
       "EVENT_SERVER       27\n",
       "DATA_LOGGER        24\n",
       "TNG_WEATHER        12\n",
       "PWR_CONTROL         2\n",
       "CHAT                1\n",
       "dtype: int64"
      ]
     },
     "execution_count": 4,
     "metadata": {},
     "output_type": "execute_result"
    }
   ],
   "source": [
    "df.server.value_counts()"
   ]
  },
  {
   "cell_type": "code",
   "execution_count": 5,
   "metadata": {
    "collapsed": false
   },
   "outputs": [
    {
     "data": {
      "text/plain": [
       "-    10004\n",
       "I     1426\n",
       "#     1389\n",
       "W      763\n",
       "E       31\n",
       "dtype: int64"
      ]
     },
     "execution_count": 5,
     "metadata": {},
     "output_type": "execute_result"
    }
   ],
   "source": [
    "df.severity.value_counts()"
   ]
  },
  {
   "cell_type": "markdown",
   "metadata": {},
   "source": [
    "# Lets have a look at the Errors only"
   ]
  },
  {
   "cell_type": "code",
   "execution_count": 6,
   "metadata": {
    "collapsed": false
   },
   "outputs": [],
   "source": [
    "errors = df[df.severity == \"E\"]"
   ]
  },
  {
   "cell_type": "code",
   "execution_count": 7,
   "metadata": {
    "collapsed": false
   },
   "outputs": [
    {
     "name": "stderr",
     "output_type": "stream",
     "text": [
      "/home/dneise/fact/logfile_parser/logfile_parser/logfile_parser.py:69: SettingWithCopyWarning: \n",
      "A value is trying to be set on a copy of a slice from a DataFrame.\n",
      "Try using .loc[row_indexer,col_indexer] = value instead\n",
      "\n",
      "See the caveats in the documentation: http://pandas.pydata.org/pandas-docs/stable/indexing.html#indexing-view-versus-copy\n",
      "  df[\"rounded_time\"] = pd.DatetimeIndex((df.index.asi8//round_to_nanoseconds).round() * round_to_nanoseconds)\n"
     ]
    },
    {
     "data": {
      "text/html": [
       "<div>\n",
       "<table border=\"1\" class=\"dataframe\">\n",
       "  <thead>\n",
       "    <tr style=\"text-align: right;\">\n",
       "      <th></th>\n",
       "      <th></th>\n",
       "      <th>message</th>\n",
       "    </tr>\n",
       "    <tr>\n",
       "      <th>rounded_time</th>\n",
       "      <th>server</th>\n",
       "      <th></th>\n",
       "    </tr>\n",
       "  </thead>\n",
       "  <tbody>\n",
       "    <tr>\n",
       "      <th>2015-01-06 19:03:41</th>\n",
       "      <th>DIM_CONTROL</th>\n",
       "      <td>| scripts/handleDriveArmed.js: l.44: Error: Wa...</td>\n",
       "    </tr>\n",
       "    <tr>\n",
       "      <th>2015-01-06 19:25:04</th>\n",
       "      <th>FEEDBACK</th>\n",
       "      <td>Current limit for shutdown exceeded.... swtchi...</td>\n",
       "    </tr>\n",
       "    <tr>\n",
       "      <th>2015-01-06 19:26:04</th>\n",
       "      <th>FEEDBACK</th>\n",
       "      <td>Current limit for shutdown exceeded.... swtchi...</td>\n",
       "    </tr>\n",
       "    <tr>\n",
       "      <th>2015-01-06 19:26:43</th>\n",
       "      <th>FEEDBACK</th>\n",
       "      <td>Current limit for shutdown exceeded.... swtchi...</td>\n",
       "    </tr>\n",
       "    <tr>\n",
       "      <th>2015-01-06 19:26:46</th>\n",
       "      <th>BIAS_CONTROL</th>\n",
       "      <td>CheckChannelVoltage - Set voltage 75.8715V of ...</td>\n",
       "    </tr>\n",
       "    <tr>\n",
       "      <th>2015-01-06 19:26:52</th>\n",
       "      <th>BIAS_CONTROL</th>\n",
       "      <td>CheckChannelVoltage - Set voltage 76.1911V of ...</td>\n",
       "    </tr>\n",
       "    <tr>\n",
       "      <th>2015-01-06 19:26:55</th>\n",
       "      <th>FEEDBACK</th>\n",
       "      <td>Current limit for shutdown exceeded.... swtchi...</td>\n",
       "    </tr>\n",
       "    <tr>\n",
       "      <th>2015-01-06 19:28:09</th>\n",
       "      <th>DIM_CONTROL</th>\n",
       "      <td>| scripts/Main.js: l.904: Error: Something une...</td>\n",
       "    </tr>\n",
       "    <tr>\n",
       "      <th>2015-01-06 19:32:14</th>\n",
       "      <th>BIAS_CONTROL</th>\n",
       "      <td>Corrupted answer (id=0): received wrap counter...</td>\n",
       "    </tr>\n",
       "    <tr>\n",
       "      <th>2015-01-07 06:41:54</th>\n",
       "      <th>BIAS_CONTROL</th>\n",
       "      <td>CheckChannelVoltage - Set voltage 76.0509V of ...</td>\n",
       "    </tr>\n",
       "    <tr>\n",
       "      <th>2015-01-07 06:42:00</th>\n",
       "      <th>FEEDBACK</th>\n",
       "      <td>Current limit for shutdown exceeded.... swtchi...</td>\n",
       "    </tr>\n",
       "    <tr>\n",
       "      <th>2015-01-07 06:42:18</th>\n",
       "      <th>BIAS_CONTROL</th>\n",
       "      <td>CheckChannelVoltage - Set voltage 74.9439V of ...</td>\n",
       "    </tr>\n",
       "    <tr>\n",
       "      <th>2015-01-07 06:43:30</th>\n",
       "      <th>FEEDBACK</th>\n",
       "      <td>Current limit for shutdown exceeded.... swtchi...</td>\n",
       "    </tr>\n",
       "  </tbody>\n",
       "</table>\n",
       "</div>"
      ],
      "text/plain": [
       "                                                                            message\n",
       "rounded_time        server                                                         \n",
       "2015-01-06 19:03:41 DIM_CONTROL   | scripts/handleDriveArmed.js: l.44: Error: Wa...\n",
       "2015-01-06 19:25:04 FEEDBACK      Current limit for shutdown exceeded.... swtchi...\n",
       "2015-01-06 19:26:04 FEEDBACK      Current limit for shutdown exceeded.... swtchi...\n",
       "2015-01-06 19:26:43 FEEDBACK      Current limit for shutdown exceeded.... swtchi...\n",
       "2015-01-06 19:26:46 BIAS_CONTROL  CheckChannelVoltage - Set voltage 75.8715V of ...\n",
       "2015-01-06 19:26:52 BIAS_CONTROL  CheckChannelVoltage - Set voltage 76.1911V of ...\n",
       "2015-01-06 19:26:55 FEEDBACK      Current limit for shutdown exceeded.... swtchi...\n",
       "2015-01-06 19:28:09 DIM_CONTROL   | scripts/Main.js: l.904: Error: Something une...\n",
       "2015-01-06 19:32:14 BIAS_CONTROL  Corrupted answer (id=0): received wrap counter...\n",
       "2015-01-07 06:41:54 BIAS_CONTROL  CheckChannelVoltage - Set voltage 76.0509V of ...\n",
       "2015-01-07 06:42:00 FEEDBACK      Current limit for shutdown exceeded.... swtchi...\n",
       "2015-01-07 06:42:18 BIAS_CONTROL  CheckChannelVoltage - Set voltage 74.9439V of ...\n",
       "2015-01-07 06:43:30 FEEDBACK      Current limit for shutdown exceeded.... swtchi..."
      ]
     },
     "execution_count": 7,
     "metadata": {},
     "output_type": "execute_result"
    }
   ],
   "source": [
    "pd.DataFrame(logfile_parser.round_time(errors).groupby([\"rounded_time\", \"server\"]).message.sum())"
   ]
  },
  {
   "cell_type": "markdown",
   "metadata": {},
   "source": [
    "# Now the Warnings only"
   ]
  },
  {
   "cell_type": "code",
   "execution_count": 8,
   "metadata": {
    "collapsed": true
   },
   "outputs": [],
   "source": [
    "warnings = df[df.severity == \"W\"]"
   ]
  },
  {
   "cell_type": "code",
   "execution_count": 9,
   "metadata": {
    "collapsed": false
   },
   "outputs": [
    {
     "data": {
      "text/plain": [
       "FSC_CONTROL      699\n",
       "BIAS_CONTROL      61\n",
       "FEEDBACK           2\n",
       "FTM_CONTROL        1\n",
       "CHAT               0\n",
       "DATA_LOGGER        0\n",
       "DIM_CONTROL        0\n",
       "DRIVE_CONTROL      0\n",
       "EVENT_SERVER       0\n",
       "FAD_CONTROL        0\n",
       "datalogger         0\n",
       "TNG_WEATHER        0\n",
       "MAGIC_LIDAR        0\n",
       "MAGIC_WEATHER      0\n",
       "MCP                0\n",
       "PWR_CONTROL        0\n",
       "RATE_CONTROL       0\n",
       "RATE_SCAN          0\n",
       "TEMPERATURE        0\n",
       "TIME_CHECK         0\n",
       "LID_CONTROL        0\n",
       "dtype: int64"
      ]
     },
     "execution_count": 9,
     "metadata": {},
     "output_type": "execute_result"
    }
   ],
   "source": [
    "warnings.server.value_counts()"
   ]
  },
  {
   "cell_type": "code",
   "execution_count": 10,
   "metadata": {
    "collapsed": false
   },
   "outputs": [
    {
     "data": {
      "text/html": [
       "<div>\n",
       "<table border=\"1\" class=\"dataframe\">\n",
       "  <thead>\n",
       "    <tr style=\"text-align: right;\">\n",
       "      <th></th>\n",
       "      <th>severity</th>\n",
       "      <th>server</th>\n",
       "      <th>state</th>\n",
       "      <th>message</th>\n",
       "    </tr>\n",
       "    <tr>\n",
       "      <th>time</th>\n",
       "      <th></th>\n",
       "      <th></th>\n",
       "      <th></th>\n",
       "      <th></th>\n",
       "    </tr>\n",
       "  </thead>\n",
       "  <tbody>\n",
       "    <tr>\n",
       "      <th>2015-01-06 08:04:49.443</th>\n",
       "      <td>W</td>\n",
       "      <td>FSC_CONTROL</td>\n",
       "      <td>NaN</td>\n",
       "      <td>Checksum error (V:e34b|ee1b, R:----|----,  Nok...</td>\n",
       "    </tr>\n",
       "    <tr>\n",
       "      <th>2015-01-06 08:07:02.416</th>\n",
       "      <td>W</td>\n",
       "      <td>FSC_CONTROL</td>\n",
       "      <td>NaN</td>\n",
       "      <td>Checksum error (V:a481|e5d9, R:6814|ffff,  Nok...</td>\n",
       "    </tr>\n",
       "    <tr>\n",
       "      <th>2015-01-06 08:09:00.614</th>\n",
       "      <td>W</td>\n",
       "      <td>FSC_CONTROL</td>\n",
       "      <td>NaN</td>\n",
       "      <td>Checksum error (V:05b0|ea05, R:----|----,  Nok...</td>\n",
       "    </tr>\n",
       "    <tr>\n",
       "      <th>2015-01-06 08:11:13.588</th>\n",
       "      <td>W</td>\n",
       "      <td>FSC_CONTROL</td>\n",
       "      <td>NaN</td>\n",
       "      <td>Checksum error (V:894a|e21f, R:20b6|ffff,  Nok...</td>\n",
       "    </tr>\n",
       "    <tr>\n",
       "      <th>2015-01-06 08:13:11.845</th>\n",
       "      <td>W</td>\n",
       "      <td>FSC_CONTROL</td>\n",
       "      <td>NaN</td>\n",
       "      <td>Checksum error (V:7234|e68f, R:f654|ff00,  Nok...</td>\n",
       "    </tr>\n",
       "  </tbody>\n",
       "</table>\n",
       "</div>"
      ],
      "text/plain": [
       "                        severity       server  state  \\\n",
       "time                                                   \n",
       "2015-01-06 08:04:49.443        W  FSC_CONTROL    NaN   \n",
       "2015-01-06 08:07:02.416        W  FSC_CONTROL    NaN   \n",
       "2015-01-06 08:09:00.614        W  FSC_CONTROL    NaN   \n",
       "2015-01-06 08:11:13.588        W  FSC_CONTROL    NaN   \n",
       "2015-01-06 08:13:11.845        W  FSC_CONTROL    NaN   \n",
       "\n",
       "                                                                   message  \n",
       "time                                                                        \n",
       "2015-01-06 08:04:49.443  Checksum error (V:e34b|ee1b, R:----|----,  Nok...  \n",
       "2015-01-06 08:07:02.416  Checksum error (V:a481|e5d9, R:6814|ffff,  Nok...  \n",
       "2015-01-06 08:09:00.614  Checksum error (V:05b0|ea05, R:----|----,  Nok...  \n",
       "2015-01-06 08:11:13.588  Checksum error (V:894a|e21f, R:20b6|ffff,  Nok...  \n",
       "2015-01-06 08:13:11.845  Checksum error (V:7234|e68f, R:f654|ff00,  Nok...  "
      ]
     },
     "execution_count": 10,
     "metadata": {},
     "output_type": "execute_result"
    }
   ],
   "source": [
    "fsc_warnings = warnings[warnings.server == \"FSC_CONTROL\"]\n",
    "fsc_warnings.head()"
   ]
  },
  {
   "cell_type": "markdown",
   "metadata": {},
   "source": [
    "These **Checksum error** we know very well, let's see if there are also other FSC warnings, not about the Checksum"
   ]
  },
  {
   "cell_type": "code",
   "execution_count": 11,
   "metadata": {
    "collapsed": false
   },
   "outputs": [
    {
     "data": {
      "text/plain": [
       "Checksum error     680\n",
       "Suspicious temp     19\n",
       "Name: message, dtype: int64"
      ]
     },
     "execution_count": 11,
     "metadata": {},
     "output_type": "execute_result"
    }
   ],
   "source": [
    "fsc_warnings.message.str.slice(0, 15).value_counts()"
   ]
  },
  {
   "cell_type": "markdown",
   "metadata": {},
   "source": [
    "Aha some **Suspicious temperatures** were measured also."
   ]
  },
  {
   "cell_type": "code",
   "execution_count": 12,
   "metadata": {
    "collapsed": false
   },
   "outputs": [
    {
     "data": {
      "text/plain": [
       "OverCurrent detected - ramping stopped.                                                      48\n",
       "RampOneStep while waiting for answer to last command (id=1)... ramp step delayed.             4\n",
       "REQUEST_STATUS: Not allowed in state Ramping[5]... ignored.                                   2\n",
       "CheckChannelVoltage - Set voltage 77.326V of channel 11 exceeds absolute limit of 76.5V.      1\n",
       "CheckChannelVoltage - Set voltage 78.1464V of channel 11 exceeds absolute limit of 76.5V.     1\n",
       "CheckChannelVoltage - Set voltage 81.2434V of channel 10 exceeds absolute limit of 76.5V.     1\n",
       "CheckChannelVoltage - Set voltage 77.5308V of channel 11 exceeds absolute limit of 76.5V.     1\n",
       "CheckChannelVoltage - Set voltage 76.5432V of channel 11 exceeds absolute limit of 76.5V.     1\n",
       "CheckChannelVoltage - Set voltage 77.2282V of channel 51 exceeds absolute limit of 76.5V.     1\n",
       "CheckChannelVoltage - Set voltage 77.0306V of channel 11 exceeds absolute limit of 76.5V.     1\n",
       "Name: message, dtype: int64"
      ]
     },
     "execution_count": 12,
     "metadata": {},
     "output_type": "execute_result"
    }
   ],
   "source": [
    "bias_warnings = warnings[warnings.server == \"BIAS_CONTROL\"]\n",
    "bias_warnings.message.value_counts()"
   ]
  },
  {
   "cell_type": "code",
   "execution_count": 13,
   "metadata": {
    "collapsed": false
   },
   "outputs": [
    {
     "data": {
      "text/html": [
       "<div>\n",
       "<table border=\"1\" class=\"dataframe\">\n",
       "  <thead>\n",
       "    <tr style=\"text-align: right;\">\n",
       "      <th></th>\n",
       "      <th>severity</th>\n",
       "      <th>server</th>\n",
       "      <th>state</th>\n",
       "      <th>message</th>\n",
       "    </tr>\n",
       "    <tr>\n",
       "      <th>time</th>\n",
       "      <th></th>\n",
       "      <th></th>\n",
       "      <th></th>\n",
       "      <th></th>\n",
       "    </tr>\n",
       "  </thead>\n",
       "  <tbody>\n",
       "    <tr>\n",
       "      <th>2015-01-07 05:38:57.115</th>\n",
       "      <td>W</td>\n",
       "      <td>FEEDBACK</td>\n",
       "      <td>NaN</td>\n",
       "      <td>Critical current limit exceeded timeout.... sw...</td>\n",
       "    </tr>\n",
       "    <tr>\n",
       "      <th>2015-01-07 06:14:21.562</th>\n",
       "      <td>W</td>\n",
       "      <td>FEEDBACK</td>\n",
       "      <td>NaN</td>\n",
       "      <td>Critical current limit exceeded timeout.... sw...</td>\n",
       "    </tr>\n",
       "  </tbody>\n",
       "</table>\n",
       "</div>"
      ],
      "text/plain": [
       "                        severity    server  state  \\\n",
       "time                                                \n",
       "2015-01-07 05:38:57.115        W  FEEDBACK    NaN   \n",
       "2015-01-07 06:14:21.562        W  FEEDBACK    NaN   \n",
       "\n",
       "                                                                   message  \n",
       "time                                                                        \n",
       "2015-01-07 05:38:57.115  Critical current limit exceeded timeout.... sw...  \n",
       "2015-01-07 06:14:21.562  Critical current limit exceeded timeout.... sw...  "
      ]
     },
     "execution_count": 13,
     "metadata": {},
     "output_type": "execute_result"
    }
   ],
   "source": [
    "warnings[warnings.server == \"FEEDBACK\"]"
   ]
  },
  {
   "cell_type": "code",
   "execution_count": 14,
   "metadata": {
    "collapsed": false
   },
   "outputs": [
    {
     "data": {
      "text/html": [
       "<div>\n",
       "<table border=\"1\" class=\"dataframe\">\n",
       "  <thead>\n",
       "    <tr style=\"text-align: right;\">\n",
       "      <th></th>\n",
       "      <th>severity</th>\n",
       "      <th>server</th>\n",
       "      <th>state</th>\n",
       "      <th>message</th>\n",
       "    </tr>\n",
       "    <tr>\n",
       "      <th>time</th>\n",
       "      <th></th>\n",
       "      <th></th>\n",
       "      <th></th>\n",
       "      <th></th>\n",
       "    </tr>\n",
       "  </thead>\n",
       "  <tbody>\n",
       "    <tr>\n",
       "      <th>2015-01-07 06:44:11.051</th>\n",
       "      <td>W</td>\n",
       "      <td>FTM_CONTROL</td>\n",
       "      <td>NaN</td>\n",
       "      <td>STOP_TRIGGER: Not allowed in state Valid[4]......</td>\n",
       "    </tr>\n",
       "  </tbody>\n",
       "</table>\n",
       "</div>"
      ],
      "text/plain": [
       "                        severity       server  state  \\\n",
       "time                                                   \n",
       "2015-01-07 06:44:11.051        W  FTM_CONTROL    NaN   \n",
       "\n",
       "                                                                   message  \n",
       "time                                                                        \n",
       "2015-01-07 06:44:11.051  STOP_TRIGGER: Not allowed in state Valid[4]......  "
      ]
     },
     "execution_count": 14,
     "metadata": {},
     "output_type": "execute_result"
    }
   ],
   "source": [
    "warnings[warnings.server == \"FTM_CONTROL\"]"
   ]
  }
 ],
 "metadata": {
  "kernelspec": {
   "display_name": "Python 3",
   "language": "python",
   "name": "python3"
  },
  "language_info": {
   "codemirror_mode": {
    "name": "ipython",
    "version": 3
   },
   "file_extension": ".py",
   "mimetype": "text/x-python",
   "name": "python",
   "nbconvert_exporter": "python",
   "pygments_lexer": "ipython3",
   "version": "3.5.1"
  }
 },
 "nbformat": 4,
 "nbformat_minor": 0
}
