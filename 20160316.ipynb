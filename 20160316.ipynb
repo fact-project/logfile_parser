{
 "cells": [
  {
   "cell_type": "markdown",
   "metadata": {},
   "source": [
    "# Logfile Summary 16.03.2016  - test\n",
    "\n",
    "Here I summarize the interesting/suspicius/special logs, I found in tonights logfile. \n",
    "Maybe something similar can be part of a future auto shift summary. \n"
   ]
  },
  {
   "cell_type": "code",
   "execution_count": 1,
   "metadata": {
    "collapsed": true
   },
   "outputs": [],
   "source": [
    "import numpy as np\n",
    "import pandas as pd\n",
    "import matplotlib.pyplot as plt\n",
    "%matplotlib inline\n",
    "import logfile_parser\n",
    "\n",
    "plt.rcParams[\"figure.figsize\"] = (14, 4)\n",
    "plt.rcParams[\"font.size\"] = 14\n",
    "plt.rcParams[\"figure.dpi\"] = 120\n",
    "\n",
    "# monkey patch pandas DataFrame for nicer tables in Latex\n",
    "pd.set_option('display.notebook_repr_html', True)\n",
    "def _repr_latex_(self):\n",
    "    return \"\\centering{%s}\" % self.to_latex()\n",
    "pd.DataFrame._repr_latex_ = _repr_latex_ "
   ]
  },
  {
   "cell_type": "markdown",
   "metadata": {},
   "source": [
    "Lets open the logfile and and see how many warnings and errors we've got tonight. We can assume errors and warnings are more imporant than infos and unmarked logs."
   ]
  },
  {
   "cell_type": "code",
   "execution_count": 2,
   "metadata": {
    "collapsed": false
   },
   "outputs": [
    {
     "data": {
      "text/plain": [
       "-    71422\n",
       "I    27214\n",
       "#      937\n",
       "W       40\n",
       "E       17\n",
       "dtype: int64"
      ]
     },
     "execution_count": 2,
     "metadata": {},
     "output_type": "execute_result"
    }
   ],
   "source": [
    "logs = logfile_parser.logfile2dataframe(\"20160316.log\")\n",
    "logs.severity.value_counts()"
   ]
  },
  {
   "cell_type": "markdown",
   "metadata": {},
   "source": [
    "## Errors"
   ]
  },
  {
   "cell_type": "code",
   "execution_count": 3,
   "metadata": {
    "collapsed": false
   },
   "outputs": [
    {
     "data": {
      "text/html": [
       "<div>\n",
       "<table border=\"1\" class=\"dataframe\">\n",
       "  <thead>\n",
       "    <tr style=\"text-align: right;\">\n",
       "      <th></th>\n",
       "      <th>severity</th>\n",
       "      <th>server</th>\n",
       "      <th>state</th>\n",
       "      <th>message</th>\n",
       "    </tr>\n",
       "    <tr>\n",
       "      <th>time</th>\n",
       "      <th></th>\n",
       "      <th></th>\n",
       "      <th></th>\n",
       "      <th></th>\n",
       "    </tr>\n",
       "  </thead>\n",
       "  <tbody>\n",
       "    <tr>\n",
       "      <th>2016-03-16 16:27:12.304</th>\n",
       "      <td>E</td>\n",
       "      <td>AGILENT_CONTROL_80V</td>\n",
       "      <td>NaN</td>\n",
       "      <td>String conversion failed for 'Agilent Technolo...</td>\n",
       "    </tr>\n",
       "    <tr>\n",
       "      <th>2016-03-16 17:01:12.406</th>\n",
       "      <td>E</td>\n",
       "      <td>AGILENT_CONTROL_80V</td>\n",
       "      <td>NaN</td>\n",
       "      <td>String conversion failed for 'Agilent Technolo...</td>\n",
       "    </tr>\n",
       "    <tr>\n",
       "      <th>2016-03-16 20:13:20.719</th>\n",
       "      <td>E</td>\n",
       "      <td>FEEDBACK</td>\n",
       "      <td>NaN</td>\n",
       "      <td>Current limit for shutdown exceeded.... swtchi...</td>\n",
       "    </tr>\n",
       "    <tr>\n",
       "      <th>2016-03-17 01:30:57.774</th>\n",
       "      <td>E</td>\n",
       "      <td>AGILENT_CONTROL_80V</td>\n",
       "      <td>NaN</td>\n",
       "      <td>String conversion failed for 'Agilent Technolo...</td>\n",
       "    </tr>\n",
       "    <tr>\n",
       "      <th>2016-03-17 06:21:04.163</th>\n",
       "      <td>E</td>\n",
       "      <td>DRIVE_CONTROL</td>\n",
       "      <td>NaN</td>\n",
       "      <td>Target position not reached in 10 steps.</td>\n",
       "    </tr>\n",
       "    <tr>\n",
       "      <th>2016-03-17 06:25:23.716</th>\n",
       "      <td>E</td>\n",
       "      <td>DIM_CONTROL</td>\n",
       "      <td>NaN</td>\n",
       "      <td>| scripts/Main.js: l.449: Error: Waiting for s...</td>\n",
       "    </tr>\n",
       "    <tr>\n",
       "      <th>2016-03-17 06:25:23.716</th>\n",
       "      <td>E</td>\n",
       "      <td>DIM_CONTROL</td>\n",
       "      <td>NaN</td>\n",
       "      <td>|     dim.wait(\"DRIVE_CONTROL\", \"Locked\", 1500...</td>\n",
       "    </tr>\n",
       "    <tr>\n",
       "      <th>2016-03-17 06:25:23.716</th>\n",
       "      <td>E</td>\n",
       "      <td>DIM_CONTROL</td>\n",
       "      <td>NaN</td>\n",
       "      <td>|         ^</td>\n",
       "    </tr>\n",
       "    <tr>\n",
       "      <th>2016-03-17 06:25:23.718</th>\n",
       "      <td>E</td>\n",
       "      <td>DIM_CONTROL</td>\n",
       "      <td>NaN</td>\n",
       "      <td>|</td>\n",
       "    </tr>\n",
       "    <tr>\n",
       "      <th>2016-03-17 06:25:23.718</th>\n",
       "      <td>E</td>\n",
       "      <td>DIM_CONTROL</td>\n",
       "      <td>NaN</td>\n",
       "      <td>| Error: Waiting for state \"Locked\" of server ...</td>\n",
       "    </tr>\n",
       "    <tr>\n",
       "      <th>2016-03-17 06:25:23.718</th>\n",
       "      <td>E</td>\n",
       "      <td>DIM_CONTROL</td>\n",
       "      <td>NaN</td>\n",
       "      <td>|     at internal:1:255</td>\n",
       "    </tr>\n",
       "    <tr>\n",
       "      <th>2016-03-17 06:25:23.718</th>\n",
       "      <td>E</td>\n",
       "      <td>DIM_CONTROL</td>\n",
       "      <td>NaN</td>\n",
       "      <td>|     at internal:1:345</td>\n",
       "    </tr>\n",
       "    <tr>\n",
       "      <th>2016-03-17 06:25:23.718</th>\n",
       "      <td>E</td>\n",
       "      <td>DIM_CONTROL</td>\n",
       "      <td>NaN</td>\n",
       "      <td>|     at Shutdown (scripts/Main.js:449:9)</td>\n",
       "    </tr>\n",
       "    <tr>\n",
       "      <th>2016-03-17 06:25:23.718</th>\n",
       "      <td>E</td>\n",
       "      <td>DIM_CONTROL</td>\n",
       "      <td>NaN</td>\n",
       "      <td>|     at scripts/Main.js:1033:9</td>\n",
       "    </tr>\n",
       "    <tr>\n",
       "      <th>2016-03-17 06:25:23.718</th>\n",
       "      <td>E</td>\n",
       "      <td>DIM_CONTROL</td>\n",
       "      <td>NaN</td>\n",
       "      <td>|     at main:1:1</td>\n",
       "    </tr>\n",
       "    <tr>\n",
       "      <th>2016-03-17 06:33:57.908</th>\n",
       "      <td>E</td>\n",
       "      <td>DRIVE_CONTROL</td>\n",
       "      <td>NaN</td>\n",
       "      <td>IndraDrive Az [f2026]: Undervoltage in power s...</td>\n",
       "    </tr>\n",
       "    <tr>\n",
       "      <th>2016-03-17 06:33:57.918</th>\n",
       "      <td>E</td>\n",
       "      <td>DRIVE_CONTROL</td>\n",
       "      <td>NaN</td>\n",
       "      <td>IndraDrive Zd [f2026]: Undervoltage in power s...</td>\n",
       "    </tr>\n",
       "  </tbody>\n",
       "</table>\n",
       "</div>"
      ],
      "text/latex": [
       "\\centering{\\begin{tabular}{lllrl}\n",
       "\\toprule\n",
       "{} & severity &               server &  state &                                            message \\\\\n",
       "time                    &          &                      &        &                                                    \\\\\n",
       "\\midrule\n",
       "2016-03-16 16:27:12.304 &        E &  AGILENT\\_CONTROL\\_80V &    NaN &  String conversion failed for 'Agilent Technolo... \\\\\n",
       "2016-03-16 17:01:12.406 &        E &  AGILENT\\_CONTROL\\_80V &    NaN &  String conversion failed for 'Agilent Technolo... \\\\\n",
       "2016-03-16 20:13:20.719 &        E &             FEEDBACK &    NaN &  Current limit for shutdown exceeded.... swtchi... \\\\\n",
       "2016-03-17 01:30:57.774 &        E &  AGILENT\\_CONTROL\\_80V &    NaN &  String conversion failed for 'Agilent Technolo... \\\\\n",
       "2016-03-17 06:21:04.163 &        E &        DRIVE\\_CONTROL &    NaN &           Target position not reached in 10 steps. \\\\\n",
       "2016-03-17 06:25:23.716 &        E &          DIM\\_CONTROL &    NaN &  | scripts/Main.js: l.449: Error: Waiting for s... \\\\\n",
       "2016-03-17 06:25:23.716 &        E &          DIM\\_CONTROL &    NaN &  |     dim.wait(\"DRIVE\\_CONTROL\", \"Locked\", 1500... \\\\\n",
       "2016-03-17 06:25:23.716 &        E &          DIM\\_CONTROL &    NaN &                                        |         \\textasciicircum \\\\\n",
       "2016-03-17 06:25:23.718 &        E &          DIM\\_CONTROL &    NaN &                                                  | \\\\\n",
       "2016-03-17 06:25:23.718 &        E &          DIM\\_CONTROL &    NaN &  | Error: Waiting for state \"Locked\" of server ... \\\\\n",
       "2016-03-17 06:25:23.718 &        E &          DIM\\_CONTROL &    NaN &                            |     at internal:1:255 \\\\\n",
       "2016-03-17 06:25:23.718 &        E &          DIM\\_CONTROL &    NaN &                            |     at internal:1:345 \\\\\n",
       "2016-03-17 06:25:23.718 &        E &          DIM\\_CONTROL &    NaN &          |     at Shutdown (scripts/Main.js:449:9) \\\\\n",
       "2016-03-17 06:25:23.718 &        E &          DIM\\_CONTROL &    NaN &                    |     at scripts/Main.js:1033:9 \\\\\n",
       "2016-03-17 06:25:23.718 &        E &          DIM\\_CONTROL &    NaN &                                  |     at main:1:1 \\\\\n",
       "2016-03-17 06:33:57.908 &        E &        DRIVE\\_CONTROL &    NaN &  IndraDrive Az [f2026]: Undervoltage in power s... \\\\\n",
       "2016-03-17 06:33:57.918 &        E &        DRIVE\\_CONTROL &    NaN &  IndraDrive Zd [f2026]: Undervoltage in power s... \\\\\n",
       "\\bottomrule\n",
       "\\end{tabular}\n",
       "}"
      ],
      "text/plain": [
       "                        severity               server  state  \\\n",
       "time                                                           \n",
       "2016-03-16 16:27:12.304        E  AGILENT_CONTROL_80V    NaN   \n",
       "2016-03-16 17:01:12.406        E  AGILENT_CONTROL_80V    NaN   \n",
       "2016-03-16 20:13:20.719        E             FEEDBACK    NaN   \n",
       "2016-03-17 01:30:57.774        E  AGILENT_CONTROL_80V    NaN   \n",
       "2016-03-17 06:21:04.163        E        DRIVE_CONTROL    NaN   \n",
       "2016-03-17 06:25:23.716        E          DIM_CONTROL    NaN   \n",
       "2016-03-17 06:25:23.716        E          DIM_CONTROL    NaN   \n",
       "2016-03-17 06:25:23.716        E          DIM_CONTROL    NaN   \n",
       "2016-03-17 06:25:23.718        E          DIM_CONTROL    NaN   \n",
       "2016-03-17 06:25:23.718        E          DIM_CONTROL    NaN   \n",
       "2016-03-17 06:25:23.718        E          DIM_CONTROL    NaN   \n",
       "2016-03-17 06:25:23.718        E          DIM_CONTROL    NaN   \n",
       "2016-03-17 06:25:23.718        E          DIM_CONTROL    NaN   \n",
       "2016-03-17 06:25:23.718        E          DIM_CONTROL    NaN   \n",
       "2016-03-17 06:25:23.718        E          DIM_CONTROL    NaN   \n",
       "2016-03-17 06:33:57.908        E        DRIVE_CONTROL    NaN   \n",
       "2016-03-17 06:33:57.918        E        DRIVE_CONTROL    NaN   \n",
       "\n",
       "                                                                   message  \n",
       "time                                                                        \n",
       "2016-03-16 16:27:12.304  String conversion failed for 'Agilent Technolo...  \n",
       "2016-03-16 17:01:12.406  String conversion failed for 'Agilent Technolo...  \n",
       "2016-03-16 20:13:20.719  Current limit for shutdown exceeded.... swtchi...  \n",
       "2016-03-17 01:30:57.774  String conversion failed for 'Agilent Technolo...  \n",
       "2016-03-17 06:21:04.163           Target position not reached in 10 steps.  \n",
       "2016-03-17 06:25:23.716  | scripts/Main.js: l.449: Error: Waiting for s...  \n",
       "2016-03-17 06:25:23.716  |     dim.wait(\"DRIVE_CONTROL\", \"Locked\", 1500...  \n",
       "2016-03-17 06:25:23.716                                        |         ^  \n",
       "2016-03-17 06:25:23.718                                                  |  \n",
       "2016-03-17 06:25:23.718  | Error: Waiting for state \"Locked\" of server ...  \n",
       "2016-03-17 06:25:23.718                            |     at internal:1:255  \n",
       "2016-03-17 06:25:23.718                            |     at internal:1:345  \n",
       "2016-03-17 06:25:23.718          |     at Shutdown (scripts/Main.js:449:9)  \n",
       "2016-03-17 06:25:23.718                    |     at scripts/Main.js:1033:9  \n",
       "2016-03-17 06:25:23.718                                  |     at main:1:1  \n",
       "2016-03-17 06:33:57.908  IndraDrive Az [f2026]: Undervoltage in power s...  \n",
       "2016-03-17 06:33:57.918  IndraDrive Zd [f2026]: Undervoltage in power s...  "
      ]
     },
     "execution_count": 3,
     "metadata": {},
     "output_type": "execute_result"
    }
   ],
   "source": [
    "error_log = logs[logs.severity == \"E\"]\n",
    "error_log"
   ]
  },
  {
   "cell_type": "markdown",
   "metadata": {},
   "source": [
    "So every now and then, the AGILENT_CONTROL_80V cannot understand what the hardware is trying to say. This is a pretty freqent message, so maybe something should be done about it. But generally this server seems to perform well.\n",
    "\n",
    "FEEDBACK shows up in the evening. It worked correctly as it was setting down the bias voltage to standby mode, due to elevated currents.\n",
    "\n",
    "And we see the little shutdown problems in the monring, where the PositioningFailed. Which is nothing really new. \n",
    "The errors at 06:33:57.9 occur when the drive cabinet is shut down, and are absolutely normal. Nothing to worry about. \n",
    "In fact, I would worry a bit if I didn't see them."
   ]
  },
  {
   "cell_type": "markdown",
   "metadata": {},
   "source": [
    "## Warnings"
   ]
  },
  {
   "cell_type": "code",
   "execution_count": 4,
   "metadata": {
    "collapsed": false
   },
   "outputs": [],
   "source": [
    "warnings = logs[logs.severity == \"W\"]"
   ]
  },
  {
   "cell_type": "code",
   "execution_count": 5,
   "metadata": {
    "collapsed": false
   },
   "outputs": [
    {
     "data": {
      "text/plain": [
       "<matplotlib.axes._subplots.AxesSubplot at 0x7fa941d71ac8>"
      ]
     },
     "execution_count": 5,
     "metadata": {},
     "output_type": "execute_result"
    },
    {
     "data": {
      "image/png": "[encoded data removed]",
      "text/plain": [
       "<matplotlib.figure.Figure at 0x7fa9417fe208>"
      ]
     },
     "metadata": {},
     "output_type": "display_data"
    }
   ],
   "source": [
    "warnings.server.value_counts().plot.bar()"
   ]
  },
  {
   "cell_type": "markdown",
   "metadata": {},
   "source": [
    "So we have a cople of warnings from TEMPERATURE, FSC_CONTROL, FTM_CONTROL and FAD_CONTROL, let's look at them"
   ]
  },
  {
   "cell_type": "code",
   "execution_count": 6,
   "metadata": {
    "collapsed": false
   },
   "outputs": [
    {
     "data": {
      "text/html": [
       "<div>\n",
       "<table border=\"1\" class=\"dataframe\">\n",
       "  <thead>\n",
       "    <tr style=\"text-align: right;\">\n",
       "      <th></th>\n",
       "      <th>severity</th>\n",
       "      <th>server</th>\n",
       "      <th>state</th>\n",
       "      <th>message</th>\n",
       "    </tr>\n",
       "    <tr>\n",
       "      <th>time</th>\n",
       "      <th></th>\n",
       "      <th></th>\n",
       "      <th></th>\n",
       "      <th></th>\n",
       "    </tr>\n",
       "  </thead>\n",
       "  <tbody>\n",
       "    <tr>\n",
       "      <th>2016-03-16 20:01:43.594</th>\n",
       "      <td>W</td>\n",
       "      <td>TEMPERATURE</td>\n",
       "      <td>NaN</td>\n",
       "      <td>Parsing of JSON failed: &lt;unspecified file&gt;(1):...</td>\n",
       "    </tr>\n",
       "    <tr>\n",
       "      <th>2016-03-17 00:28:44.010</th>\n",
       "      <td>W</td>\n",
       "      <td>TEMPERATURE</td>\n",
       "      <td>NaN</td>\n",
       "      <td>Parsing of JSON failed: &lt;unspecified file&gt;(1):...</td>\n",
       "    </tr>\n",
       "    <tr>\n",
       "      <th>2016-03-17 02:55:44.224</th>\n",
       "      <td>W</td>\n",
       "      <td>TEMPERATURE</td>\n",
       "      <td>NaN</td>\n",
       "      <td>Parsing of JSON failed: &lt;unspecified file&gt;(1):...</td>\n",
       "    </tr>\n",
       "    <tr>\n",
       "      <th>2016-03-17 02:57:44.062</th>\n",
       "      <td>W</td>\n",
       "      <td>TEMPERATURE</td>\n",
       "      <td>NaN</td>\n",
       "      <td>Parsing of JSON failed: &lt;unspecified file&gt;(1):...</td>\n",
       "    </tr>\n",
       "    <tr>\n",
       "      <th>2016-03-17 04:20:44.233</th>\n",
       "      <td>W</td>\n",
       "      <td>TEMPERATURE</td>\n",
       "      <td>NaN</td>\n",
       "      <td>Parsing of JSON failed: &lt;unspecified file&gt;(1):...</td>\n",
       "    </tr>\n",
       "    <tr>\n",
       "      <th>2016-03-17 05:12:44.317</th>\n",
       "      <td>W</td>\n",
       "      <td>TEMPERATURE</td>\n",
       "      <td>NaN</td>\n",
       "      <td>Parsing of JSON failed: &lt;unspecified file&gt;(1):...</td>\n",
       "    </tr>\n",
       "    <tr>\n",
       "      <th>2016-03-17 05:13:44.247</th>\n",
       "      <td>W</td>\n",
       "      <td>TEMPERATURE</td>\n",
       "      <td>NaN</td>\n",
       "      <td>Parsing of JSON failed: &lt;unspecified file&gt;(1):...</td>\n",
       "    </tr>\n",
       "    <tr>\n",
       "      <th>2016-03-17 05:53:44.438</th>\n",
       "      <td>W</td>\n",
       "      <td>TEMPERATURE</td>\n",
       "      <td>NaN</td>\n",
       "      <td>Parsing of JSON failed: &lt;unspecified file&gt;(1):...</td>\n",
       "    </tr>\n",
       "    <tr>\n",
       "      <th>2016-03-17 06:05:44.303</th>\n",
       "      <td>W</td>\n",
       "      <td>TEMPERATURE</td>\n",
       "      <td>NaN</td>\n",
       "      <td>Parsing of JSON failed: &lt;unspecified file&gt;(1):...</td>\n",
       "    </tr>\n",
       "  </tbody>\n",
       "</table>\n",
       "</div>"
      ],
      "text/latex": [
       "\\centering{\\begin{tabular}{lllrl}\n",
       "\\toprule\n",
       "{} & severity &       server &  state &                                            message \\\\\n",
       "time                    &          &              &        &                                                    \\\\\n",
       "\\midrule\n",
       "2016-03-16 20:01:43.594 &        W &  TEMPERATURE &    NaN &  Parsing of JSON failed: <unspecified file>(1):... \\\\\n",
       "2016-03-17 00:28:44.010 &        W &  TEMPERATURE &    NaN &  Parsing of JSON failed: <unspecified file>(1):... \\\\\n",
       "2016-03-17 02:55:44.224 &        W &  TEMPERATURE &    NaN &  Parsing of JSON failed: <unspecified file>(1):... \\\\\n",
       "2016-03-17 02:57:44.062 &        W &  TEMPERATURE &    NaN &  Parsing of JSON failed: <unspecified file>(1):... \\\\\n",
       "2016-03-17 04:20:44.233 &        W &  TEMPERATURE &    NaN &  Parsing of JSON failed: <unspecified file>(1):... \\\\\n",
       "2016-03-17 05:12:44.317 &        W &  TEMPERATURE &    NaN &  Parsing of JSON failed: <unspecified file>(1):... \\\\\n",
       "2016-03-17 05:13:44.247 &        W &  TEMPERATURE &    NaN &  Parsing of JSON failed: <unspecified file>(1):... \\\\\n",
       "2016-03-17 05:53:44.438 &        W &  TEMPERATURE &    NaN &  Parsing of JSON failed: <unspecified file>(1):... \\\\\n",
       "2016-03-17 06:05:44.303 &        W &  TEMPERATURE &    NaN &  Parsing of JSON failed: <unspecified file>(1):... \\\\\n",
       "\\bottomrule\n",
       "\\end{tabular}\n",
       "}"
      ],
      "text/plain": [
       "                        severity       server  state  \\\n",
       "time                                                   \n",
       "2016-03-16 20:01:43.594        W  TEMPERATURE    NaN   \n",
       "2016-03-17 00:28:44.010        W  TEMPERATURE    NaN   \n",
       "2016-03-17 02:55:44.224        W  TEMPERATURE    NaN   \n",
       "2016-03-17 02:57:44.062        W  TEMPERATURE    NaN   \n",
       "2016-03-17 04:20:44.233        W  TEMPERATURE    NaN   \n",
       "2016-03-17 05:12:44.317        W  TEMPERATURE    NaN   \n",
       "2016-03-17 05:13:44.247        W  TEMPERATURE    NaN   \n",
       "2016-03-17 05:53:44.438        W  TEMPERATURE    NaN   \n",
       "2016-03-17 06:05:44.303        W  TEMPERATURE    NaN   \n",
       "\n",
       "                                                                   message  \n",
       "time                                                                        \n",
       "2016-03-16 20:01:43.594  Parsing of JSON failed: <unspecified file>(1):...  \n",
       "2016-03-17 00:28:44.010  Parsing of JSON failed: <unspecified file>(1):...  \n",
       "2016-03-17 02:55:44.224  Parsing of JSON failed: <unspecified file>(1):...  \n",
       "2016-03-17 02:57:44.062  Parsing of JSON failed: <unspecified file>(1):...  \n",
       "2016-03-17 04:20:44.233  Parsing of JSON failed: <unspecified file>(1):...  \n",
       "2016-03-17 05:12:44.317  Parsing of JSON failed: <unspecified file>(1):...  \n",
       "2016-03-17 05:13:44.247  Parsing of JSON failed: <unspecified file>(1):...  \n",
       "2016-03-17 05:53:44.438  Parsing of JSON failed: <unspecified file>(1):...  \n",
       "2016-03-17 06:05:44.303  Parsing of JSON failed: <unspecified file>(1):...  "
      ]
     },
     "execution_count": 6,
     "metadata": {},
     "output_type": "execute_result"
    }
   ],
   "source": [
    "warnings.query(\"server == 'TEMPERATURE'\")"
   ]
  },
  {
   "cell_type": "markdown",
   "metadata": {},
   "source": [
    "Similar to the AGILENT_CONTROL_80V this server seems to sometimes be unable to read, what was maybe told. Or the input is simply damaged. This happens every now and then, and should maybe taken care of. For the logfile summary, just counting these specific warnings should be okay, I guess."
   ]
  },
  {
   "cell_type": "code",
   "execution_count": 7,
   "metadata": {
    "collapsed": false
   },
   "outputs": [
    {
     "data": {
      "text/html": [
       "<div>\n",
       "<table border=\"1\" class=\"dataframe\">\n",
       "  <thead>\n",
       "    <tr style=\"text-align: right;\">\n",
       "      <th></th>\n",
       "      <th>severity</th>\n",
       "      <th>server</th>\n",
       "      <th>state</th>\n",
       "      <th>message</th>\n",
       "    </tr>\n",
       "    <tr>\n",
       "      <th>time</th>\n",
       "      <th></th>\n",
       "      <th></th>\n",
       "      <th></th>\n",
       "      <th></th>\n",
       "    </tr>\n",
       "  </thead>\n",
       "  <tbody>\n",
       "    <tr>\n",
       "      <th>2016-03-16 13:01:56.395</th>\n",
       "      <td>W</td>\n",
       "      <td>FSC_CONTROL</td>\n",
       "      <td>NaN</td>\n",
       "      <td>Checksum error (V:d4b6|79ed, R:dfb0|99a8,  Nok...</td>\n",
       "    </tr>\n",
       "    <tr>\n",
       "      <th>2016-03-16 13:31:14.462</th>\n",
       "      <td>W</td>\n",
       "      <td>FSC_CONTROL</td>\n",
       "      <td>NaN</td>\n",
       "      <td>Checksum error (V:d910|95b2, R:489d|bdd3,  Nok...</td>\n",
       "    </tr>\n",
       "    <tr>\n",
       "      <th>2016-03-16 16:07:06.714</th>\n",
       "      <td>W</td>\n",
       "      <td>FSC_CONTROL</td>\n",
       "      <td>NaN</td>\n",
       "      <td>Checksum error (V:2a30|672b, R:1459|3367,  Nok...</td>\n",
       "    </tr>\n",
       "    <tr>\n",
       "      <th>2016-03-16 16:22:07.853</th>\n",
       "      <td>W</td>\n",
       "      <td>FSC_CONTROL</td>\n",
       "      <td>NaN</td>\n",
       "      <td>Checksum error (V:36dc|4cc4, R:78d0|1712,  Nok...</td>\n",
       "    </tr>\n",
       "    <tr>\n",
       "      <th>2016-03-16 21:59:28.896</th>\n",
       "      <td>W</td>\n",
       "      <td>FSC_CONTROL</td>\n",
       "      <td>NaN</td>\n",
       "      <td>Checksum error (V:d872|43dc, R:c17a|cdbf,  Nok...</td>\n",
       "    </tr>\n",
       "    <tr>\n",
       "      <th>2016-03-16 22:01:26.970</th>\n",
       "      <td>W</td>\n",
       "      <td>FSC_CONTROL</td>\n",
       "      <td>NaN</td>\n",
       "      <td>Checksum error (V:8681|0054, R:6ddf|832d,  Nok...</td>\n",
       "    </tr>\n",
       "    <tr>\n",
       "      <th>2016-03-17 02:21:43.545</th>\n",
       "      <td>W</td>\n",
       "      <td>FSC_CONTROL</td>\n",
       "      <td>NaN</td>\n",
       "      <td>Checksum error (V:8f55|0adb, R:e867|3e40,  Nok...</td>\n",
       "    </tr>\n",
       "  </tbody>\n",
       "</table>\n",
       "</div>"
      ],
      "text/latex": [
       "\\centering{\\begin{tabular}{lllrl}\n",
       "\\toprule\n",
       "{} & severity &       server &  state &                                            message \\\\\n",
       "time                    &          &              &        &                                                    \\\\\n",
       "\\midrule\n",
       "2016-03-16 13:01:56.395 &        W &  FSC\\_CONTROL &    NaN &  Checksum error (V:d4b6|79ed, R:dfb0|99a8,  Nok... \\\\\n",
       "2016-03-16 13:31:14.462 &        W &  FSC\\_CONTROL &    NaN &  Checksum error (V:d910|95b2, R:489d|bdd3,  Nok... \\\\\n",
       "2016-03-16 16:07:06.714 &        W &  FSC\\_CONTROL &    NaN &  Checksum error (V:2a30|672b, R:1459|3367,  Nok... \\\\\n",
       "2016-03-16 16:22:07.853 &        W &  FSC\\_CONTROL &    NaN &  Checksum error (V:36dc|4cc4, R:78d0|1712,  Nok... \\\\\n",
       "2016-03-16 21:59:28.896 &        W &  FSC\\_CONTROL &    NaN &  Checksum error (V:d872|43dc, R:c17a|cdbf,  Nok... \\\\\n",
       "2016-03-16 22:01:26.970 &        W &  FSC\\_CONTROL &    NaN &  Checksum error (V:8681|0054, R:6ddf|832d,  Nok... \\\\\n",
       "2016-03-17 02:21:43.545 &        W &  FSC\\_CONTROL &    NaN &  Checksum error (V:8f55|0adb, R:e867|3e40,  Nok... \\\\\n",
       "\\bottomrule\n",
       "\\end{tabular}\n",
       "}"
      ],
      "text/plain": [
       "                        severity       server  state  \\\n",
       "time                                                   \n",
       "2016-03-16 13:01:56.395        W  FSC_CONTROL    NaN   \n",
       "2016-03-16 13:31:14.462        W  FSC_CONTROL    NaN   \n",
       "2016-03-16 16:07:06.714        W  FSC_CONTROL    NaN   \n",
       "2016-03-16 16:22:07.853        W  FSC_CONTROL    NaN   \n",
       "2016-03-16 21:59:28.896        W  FSC_CONTROL    NaN   \n",
       "2016-03-16 22:01:26.970        W  FSC_CONTROL    NaN   \n",
       "2016-03-17 02:21:43.545        W  FSC_CONTROL    NaN   \n",
       "\n",
       "                                                                   message  \n",
       "time                                                                        \n",
       "2016-03-16 13:01:56.395  Checksum error (V:d4b6|79ed, R:dfb0|99a8,  Nok...  \n",
       "2016-03-16 13:31:14.462  Checksum error (V:d910|95b2, R:489d|bdd3,  Nok...  \n",
       "2016-03-16 16:07:06.714  Checksum error (V:2a30|672b, R:1459|3367,  Nok...  \n",
       "2016-03-16 16:22:07.853  Checksum error (V:36dc|4cc4, R:78d0|1712,  Nok...  \n",
       "2016-03-16 21:59:28.896  Checksum error (V:d872|43dc, R:c17a|cdbf,  Nok...  \n",
       "2016-03-16 22:01:26.970  Checksum error (V:8681|0054, R:6ddf|832d,  Nok...  \n",
       "2016-03-17 02:21:43.545  Checksum error (V:8f55|0adb, R:e867|3e40,  Nok...  "
      ]
     },
     "execution_count": 7,
     "metadata": {},
     "output_type": "execute_result"
    }
   ],
   "source": [
    "warnings.query(\"server == 'FSC_CONTROL'\")"
   ]
  },
  {
   "cell_type": "markdown",
   "metadata": {},
   "source": [
    "These are very well known meesages. Every now and then the FSC sends a broken message. Counting them per night should be interesting as well, I guess."
   ]
  },
  {
   "cell_type": "code",
   "execution_count": 8,
   "metadata": {
    "collapsed": false
   },
   "outputs": [
    {
     "data": {
      "text/html": [
       "<div>\n",
       "<table border=\"1\" class=\"dataframe\">\n",
       "  <thead>\n",
       "    <tr style=\"text-align: right;\">\n",
       "      <th></th>\n",
       "      <th>severity</th>\n",
       "      <th>server</th>\n",
       "      <th>state</th>\n",
       "      <th>message</th>\n",
       "    </tr>\n",
       "    <tr>\n",
       "      <th>time</th>\n",
       "      <th></th>\n",
       "      <th></th>\n",
       "      <th></th>\n",
       "      <th></th>\n",
       "    </tr>\n",
       "  </thead>\n",
       "  <tbody>\n",
       "    <tr>\n",
       "      <th>2016-03-16 21:48:17.665</th>\n",
       "      <td>W</td>\n",
       "      <td>FTM_CONTROL</td>\n",
       "      <td>NaN</td>\n",
       "      <td>SET_SELECTED_THRESHOLDS: Not allowed in state ...</td>\n",
       "    </tr>\n",
       "    <tr>\n",
       "      <th>2016-03-16 22:30:03.438</th>\n",
       "      <td>W</td>\n",
       "      <td>FTM_CONTROL</td>\n",
       "      <td>NaN</td>\n",
       "      <td>SET_SELECTED_THRESHOLDS: Not allowed in state ...</td>\n",
       "    </tr>\n",
       "    <tr>\n",
       "      <th>2016-03-17 01:00:22.185</th>\n",
       "      <td>W</td>\n",
       "      <td>FTM_CONTROL</td>\n",
       "      <td>NaN</td>\n",
       "      <td>SET_SELECTED_THRESHOLDS: Not allowed in state ...</td>\n",
       "    </tr>\n",
       "    <tr>\n",
       "      <th>2016-03-17 01:41:55.595</th>\n",
       "      <td>W</td>\n",
       "      <td>FTM_CONTROL</td>\n",
       "      <td>NaN</td>\n",
       "      <td>SET_SELECTED_THRESHOLDS: Not allowed in state ...</td>\n",
       "    </tr>\n",
       "    <tr>\n",
       "      <th>2016-03-17 03:55:53.535</th>\n",
       "      <td>W</td>\n",
       "      <td>FTM_CONTROL</td>\n",
       "      <td>NaN</td>\n",
       "      <td>SET_SELECTED_THRESHOLDS: Not allowed in state ...</td>\n",
       "    </tr>\n",
       "    <tr>\n",
       "      <th>2016-03-17 05:00:11.355</th>\n",
       "      <td>W</td>\n",
       "      <td>FTM_CONTROL</td>\n",
       "      <td>NaN</td>\n",
       "      <td>SET_SELECTED_THRESHOLDS: Not allowed in state ...</td>\n",
       "    </tr>\n",
       "    <tr>\n",
       "      <th>2016-03-17 05:41:28.867</th>\n",
       "      <td>W</td>\n",
       "      <td>FTM_CONTROL</td>\n",
       "      <td>NaN</td>\n",
       "      <td>SET_SELECTED_THRESHOLDS: Not allowed in state ...</td>\n",
       "    </tr>\n",
       "  </tbody>\n",
       "</table>\n",
       "</div>"
      ],
      "text/latex": [
       "\\centering{\\begin{tabular}{lllrl}\n",
       "\\toprule\n",
       "{} & severity &       server &  state &                                            message \\\\\n",
       "time                    &          &              &        &                                                    \\\\\n",
       "\\midrule\n",
       "2016-03-16 21:48:17.665 &        W &  FTM\\_CONTROL &    NaN &  SET\\_SELECTED\\_THRESHOLDS: Not allowed in state ... \\\\\n",
       "2016-03-16 22:30:03.438 &        W &  FTM\\_CONTROL &    NaN &  SET\\_SELECTED\\_THRESHOLDS: Not allowed in state ... \\\\\n",
       "2016-03-17 01:00:22.185 &        W &  FTM\\_CONTROL &    NaN &  SET\\_SELECTED\\_THRESHOLDS: Not allowed in state ... \\\\\n",
       "2016-03-17 01:41:55.595 &        W &  FTM\\_CONTROL &    NaN &  SET\\_SELECTED\\_THRESHOLDS: Not allowed in state ... \\\\\n",
       "2016-03-17 03:55:53.535 &        W &  FTM\\_CONTROL &    NaN &  SET\\_SELECTED\\_THRESHOLDS: Not allowed in state ... \\\\\n",
       "2016-03-17 05:00:11.355 &        W &  FTM\\_CONTROL &    NaN &  SET\\_SELECTED\\_THRESHOLDS: Not allowed in state ... \\\\\n",
       "2016-03-17 05:41:28.867 &        W &  FTM\\_CONTROL &    NaN &  SET\\_SELECTED\\_THRESHOLDS: Not allowed in state ... \\\\\n",
       "\\bottomrule\n",
       "\\end{tabular}\n",
       "}"
      ],
      "text/plain": [
       "                        severity       server  state  \\\n",
       "time                                                   \n",
       "2016-03-16 21:48:17.665        W  FTM_CONTROL    NaN   \n",
       "2016-03-16 22:30:03.438        W  FTM_CONTROL    NaN   \n",
       "2016-03-17 01:00:22.185        W  FTM_CONTROL    NaN   \n",
       "2016-03-17 01:41:55.595        W  FTM_CONTROL    NaN   \n",
       "2016-03-17 03:55:53.535        W  FTM_CONTROL    NaN   \n",
       "2016-03-17 05:00:11.355        W  FTM_CONTROL    NaN   \n",
       "2016-03-17 05:41:28.867        W  FTM_CONTROL    NaN   \n",
       "\n",
       "                                                                   message  \n",
       "time                                                                        \n",
       "2016-03-16 21:48:17.665  SET_SELECTED_THRESHOLDS: Not allowed in state ...  \n",
       "2016-03-16 22:30:03.438  SET_SELECTED_THRESHOLDS: Not allowed in state ...  \n",
       "2016-03-17 01:00:22.185  SET_SELECTED_THRESHOLDS: Not allowed in state ...  \n",
       "2016-03-17 01:41:55.595  SET_SELECTED_THRESHOLDS: Not allowed in state ...  \n",
       "2016-03-17 03:55:53.535  SET_SELECTED_THRESHOLDS: Not allowed in state ...  \n",
       "2016-03-17 05:00:11.355  SET_SELECTED_THRESHOLDS: Not allowed in state ...  \n",
       "2016-03-17 05:41:28.867  SET_SELECTED_THRESHOLDS: Not allowed in state ...  "
      ]
     },
     "execution_count": 8,
     "metadata": {},
     "output_type": "execute_result"
    }
   ],
   "source": [
    "warnings.query(\"server == 'FTM_CONTROL'\")"
   ]
  },
  {
   "cell_type": "markdown",
   "metadata": {},
   "source": [
    "These are new to me personally, so lets have a look at the complete text."
   ]
  },
  {
   "cell_type": "code",
   "execution_count": 9,
   "metadata": {
    "collapsed": false
   },
   "outputs": [
    {
     "data": {
      "text/plain": [
       "array(['SET_SELECTED_THRESHOLDS: Not allowed in state Valid[4]... ignored.',\n",
       "       'SET_SELECTED_THRESHOLDS: Not allowed in state Valid[4]... ignored.',\n",
       "       'SET_SELECTED_THRESHOLDS: Not allowed in state Valid[4]... ignored.',\n",
       "       'SET_SELECTED_THRESHOLDS: Not allowed in state Valid[4]... ignored.',\n",
       "       'SET_SELECTED_THRESHOLDS: Not allowed in state Valid[4]... ignored.',\n",
       "       'SET_SELECTED_THRESHOLDS: Not allowed in state Valid[4]... ignored.',\n",
       "       'SET_SELECTED_THRESHOLDS: Not allowed in state Valid[4]... ignored.'], dtype=object)"
      ]
     },
     "execution_count": 9,
     "metadata": {},
     "output_type": "execute_result"
    }
   ],
   "source": [
    "warnings.query(\"server == 'FTM_CONTROL'\").message.values"
   ]
  },
  {
   "cell_type": "markdown",
   "metadata": {},
   "source": [
    "This is maybe a more interesting warning. It looks like we sometimes send a command \"SET_SELECTED_THRESHOLDS\" to the FTM_CONTROL, while this makes no sense and is not allowed. I wonder why this is the case. Maybe its just a matter of time.. maybe a second later the FTM_CONTROL was in a state where getting this command made sense.\n",
    "\n"
   ]
  },
  {
   "cell_type": "code",
   "execution_count": 10,
   "metadata": {
    "collapsed": false
   },
   "outputs": [
    {
     "data": {
      "text/html": [
       "<div>\n",
       "<table border=\"1\" class=\"dataframe\">\n",
       "  <thead>\n",
       "    <tr style=\"text-align: right;\">\n",
       "      <th></th>\n",
       "      <th>severity</th>\n",
       "      <th>server</th>\n",
       "      <th>state</th>\n",
       "      <th>message</th>\n",
       "    </tr>\n",
       "    <tr>\n",
       "      <th>time</th>\n",
       "      <th></th>\n",
       "      <th></th>\n",
       "      <th></th>\n",
       "      <th></th>\n",
       "    </tr>\n",
       "  </thead>\n",
       "  <tbody>\n",
       "    <tr>\n",
       "      <th>2016-03-16 21:27:14.198</th>\n",
       "      <td>W</td>\n",
       "      <td>FAD_CONTROL</td>\n",
       "      <td>NaN</td>\n",
       "      <td>Could not reset DRS calibration of secondary b...</td>\n",
       "    </tr>\n",
       "    <tr>\n",
       "      <th>2016-03-16 22:52:41.226</th>\n",
       "      <td>W</td>\n",
       "      <td>FAD_CONTROL</td>\n",
       "      <td>NaN</td>\n",
       "      <td>Could not reset DRS calibration of secondary b...</td>\n",
       "    </tr>\n",
       "    <tr>\n",
       "      <th>2016-03-17 00:17:53.461</th>\n",
       "      <td>W</td>\n",
       "      <td>FAD_CONTROL</td>\n",
       "      <td>NaN</td>\n",
       "      <td>Could not reset DRS calibration of secondary b...</td>\n",
       "    </tr>\n",
       "    <tr>\n",
       "      <th>2016-03-17 01:43:38.190</th>\n",
       "      <td>W</td>\n",
       "      <td>FAD_CONTROL</td>\n",
       "      <td>NaN</td>\n",
       "      <td>Could not reset DRS calibration of secondary b...</td>\n",
       "    </tr>\n",
       "    <tr>\n",
       "      <th>2016-03-17 03:08:27.119</th>\n",
       "      <td>W</td>\n",
       "      <td>FAD_CONTROL</td>\n",
       "      <td>NaN</td>\n",
       "      <td>Could not reset DRS calibration of secondary b...</td>\n",
       "    </tr>\n",
       "    <tr>\n",
       "      <th>2016-03-17 04:39:06.043</th>\n",
       "      <td>W</td>\n",
       "      <td>FAD_CONTROL</td>\n",
       "      <td>NaN</td>\n",
       "      <td>Could not reset DRS calibration of secondary b...</td>\n",
       "    </tr>\n",
       "    <tr>\n",
       "      <th>2016-03-17 06:03:56.661</th>\n",
       "      <td>W</td>\n",
       "      <td>FAD_CONTROL</td>\n",
       "      <td>NaN</td>\n",
       "      <td>Could not reset DRS calibration of secondary b...</td>\n",
       "    </tr>\n",
       "  </tbody>\n",
       "</table>\n",
       "</div>"
      ],
      "text/latex": [
       "\\centering{\\begin{tabular}{lllrl}\n",
       "\\toprule\n",
       "{} & severity &       server &  state &                                            message \\\\\n",
       "time                    &          &              &        &                                                    \\\\\n",
       "\\midrule\n",
       "2016-03-16 21:27:14.198 &        W &  FAD\\_CONTROL &    NaN &  Could not reset DRS calibration of secondary b... \\\\\n",
       "2016-03-16 22:52:41.226 &        W &  FAD\\_CONTROL &    NaN &  Could not reset DRS calibration of secondary b... \\\\\n",
       "2016-03-17 00:17:53.461 &        W &  FAD\\_CONTROL &    NaN &  Could not reset DRS calibration of secondary b... \\\\\n",
       "2016-03-17 01:43:38.190 &        W &  FAD\\_CONTROL &    NaN &  Could not reset DRS calibration of secondary b... \\\\\n",
       "2016-03-17 03:08:27.119 &        W &  FAD\\_CONTROL &    NaN &  Could not reset DRS calibration of secondary b... \\\\\n",
       "2016-03-17 04:39:06.043 &        W &  FAD\\_CONTROL &    NaN &  Could not reset DRS calibration of secondary b... \\\\\n",
       "2016-03-17 06:03:56.661 &        W &  FAD\\_CONTROL &    NaN &  Could not reset DRS calibration of secondary b... \\\\\n",
       "\\bottomrule\n",
       "\\end{tabular}\n",
       "}"
      ],
      "text/plain": [
       "                        severity       server  state  \\\n",
       "time                                                   \n",
       "2016-03-16 21:27:14.198        W  FAD_CONTROL    NaN   \n",
       "2016-03-16 22:52:41.226        W  FAD_CONTROL    NaN   \n",
       "2016-03-17 00:17:53.461        W  FAD_CONTROL    NaN   \n",
       "2016-03-17 01:43:38.190        W  FAD_CONTROL    NaN   \n",
       "2016-03-17 03:08:27.119        W  FAD_CONTROL    NaN   \n",
       "2016-03-17 04:39:06.043        W  FAD_CONTROL    NaN   \n",
       "2016-03-17 06:03:56.661        W  FAD_CONTROL    NaN   \n",
       "\n",
       "                                                                   message  \n",
       "time                                                                        \n",
       "2016-03-16 21:27:14.198  Could not reset DRS calibration of secondary b...  \n",
       "2016-03-16 22:52:41.226  Could not reset DRS calibration of secondary b...  \n",
       "2016-03-17 00:17:53.461  Could not reset DRS calibration of secondary b...  \n",
       "2016-03-17 01:43:38.190  Could not reset DRS calibration of secondary b...  \n",
       "2016-03-17 03:08:27.119  Could not reset DRS calibration of secondary b...  \n",
       "2016-03-17 04:39:06.043  Could not reset DRS calibration of secondary b...  \n",
       "2016-03-17 06:03:56.661  Could not reset DRS calibration of secondary b...  "
      ]
     },
     "execution_count": 10,
     "metadata": {},
     "output_type": "execute_result"
    }
   ],
   "source": [
    "warnings.query(\"server == 'FAD_CONTROL'\")"
   ]
  },
  {
   "cell_type": "code",
   "execution_count": 11,
   "metadata": {
    "collapsed": false
   },
   "outputs": [
    {
     "data": {
      "text/html": [
       "<div>\n",
       "<table border=\"1\" class=\"dataframe\">\n",
       "  <thead>\n",
       "    <tr style=\"text-align: right;\">\n",
       "      <th></th>\n",
       "      <th>severity</th>\n",
       "      <th>server</th>\n",
       "      <th>state</th>\n",
       "      <th>message</th>\n",
       "    </tr>\n",
       "    <tr>\n",
       "      <th>time</th>\n",
       "      <th></th>\n",
       "      <th></th>\n",
       "      <th></th>\n",
       "      <th></th>\n",
       "    </tr>\n",
       "  </thead>\n",
       "  <tbody>\n",
       "    <tr>\n",
       "      <th>2016-03-16 19:45:47.229</th>\n",
       "      <td>W</td>\n",
       "      <td>DRIVE_CONTROL</td>\n",
       "      <td>NaN</td>\n",
       "      <td>Connecting to 192.168.1.2:5357: Connection ref...</td>\n",
       "    </tr>\n",
       "    <tr>\n",
       "      <th>2016-03-17 06:30:33.101</th>\n",
       "      <td>W</td>\n",
       "      <td>DRIVE_CONTROL</td>\n",
       "      <td>NaN</td>\n",
       "      <td>PARK: Not allowed in state PositioningFailed[2...</td>\n",
       "    </tr>\n",
       "    <tr>\n",
       "      <th>2016-03-17 06:32:02.163</th>\n",
       "      <td>W</td>\n",
       "      <td>DRIVE_CONTROL</td>\n",
       "      <td>NaN</td>\n",
       "      <td>STOP: Not allowed in state PositioningFailed[2...</td>\n",
       "    </tr>\n",
       "    <tr>\n",
       "      <th>2016-03-17 06:33:57.968</th>\n",
       "      <td>W</td>\n",
       "      <td>DRIVE_CONTROL</td>\n",
       "      <td>NaN</td>\n",
       "      <td>IndraDrive Az [e2819]: Main power failure!</td>\n",
       "    </tr>\n",
       "    <tr>\n",
       "      <th>2016-03-17 06:33:57.978</th>\n",
       "      <td>W</td>\n",
       "      <td>DRIVE_CONTROL</td>\n",
       "      <td>NaN</td>\n",
       "      <td>IndraDrive Zd [e2819]: Main power failure!</td>\n",
       "    </tr>\n",
       "  </tbody>\n",
       "</table>\n",
       "</div>"
      ],
      "text/latex": [
       "\\centering{\\begin{tabular}{lllrl}\n",
       "\\toprule\n",
       "{} & severity &         server &  state &                                            message \\\\\n",
       "time                    &          &                &        &                                                    \\\\\n",
       "\\midrule\n",
       "2016-03-16 19:45:47.229 &        W &  DRIVE\\_CONTROL &    NaN &  Connecting to 192.168.1.2:5357: Connection ref... \\\\\n",
       "2016-03-17 06:30:33.101 &        W &  DRIVE\\_CONTROL &    NaN &  PARK: Not allowed in state PositioningFailed[2... \\\\\n",
       "2016-03-17 06:32:02.163 &        W &  DRIVE\\_CONTROL &    NaN &  STOP: Not allowed in state PositioningFailed[2... \\\\\n",
       "2016-03-17 06:33:57.968 &        W &  DRIVE\\_CONTROL &    NaN &         IndraDrive Az [e2819]: Main power failure! \\\\\n",
       "2016-03-17 06:33:57.978 &        W &  DRIVE\\_CONTROL &    NaN &         IndraDrive Zd [e2819]: Main power failure! \\\\\n",
       "\\bottomrule\n",
       "\\end{tabular}\n",
       "}"
      ],
      "text/plain": [
       "                        severity         server  state  \\\n",
       "time                                                     \n",
       "2016-03-16 19:45:47.229        W  DRIVE_CONTROL    NaN   \n",
       "2016-03-17 06:30:33.101        W  DRIVE_CONTROL    NaN   \n",
       "2016-03-17 06:32:02.163        W  DRIVE_CONTROL    NaN   \n",
       "2016-03-17 06:33:57.968        W  DRIVE_CONTROL    NaN   \n",
       "2016-03-17 06:33:57.978        W  DRIVE_CONTROL    NaN   \n",
       "\n",
       "                                                                   message  \n",
       "time                                                                        \n",
       "2016-03-16 19:45:47.229  Connecting to 192.168.1.2:5357: Connection ref...  \n",
       "2016-03-17 06:30:33.101  PARK: Not allowed in state PositioningFailed[2...  \n",
       "2016-03-17 06:32:02.163  STOP: Not allowed in state PositioningFailed[2...  \n",
       "2016-03-17 06:33:57.968         IndraDrive Az [e2819]: Main power failure!  \n",
       "2016-03-17 06:33:57.978         IndraDrive Zd [e2819]: Main power failure!  "
      ]
     },
     "execution_count": 11,
     "metadata": {},
     "output_type": "execute_result"
    }
   ],
   "source": [
    "warnings.query(\"server == 'DRIVE_CONTROL'\")"
   ]
  },
  {
   "cell_type": "markdown",
   "metadata": {},
   "source": [
    "Here we see the first connection attempt in the evening. And my tries in the morning to get the system parked after PositioningFailure. And again the warnings, when I shut down the drive cabinet."
   ]
  },
  {
   "cell_type": "markdown",
   "metadata": {},
   "source": [
    "Well, that's it for the start. I would also be interesting to have a look at the logs not from a severity point of view,\n",
    "but by saying: What writes a lot into the logfile might need more of our attention. So if I had more time, I could study this last plot in more details.\n",
    "\n",
    "## By Frequency"
   ]
  },
  {
   "cell_type": "code",
   "execution_count": 12,
   "metadata": {
    "collapsed": false
   },
   "outputs": [
    {
     "data": {
      "text/plain": [
       "<matplotlib.axes._subplots.AxesSubplot at 0x7fa9406a6f60>"
      ]
     },
     "execution_count": 12,
     "metadata": {},
     "output_type": "execute_result"
    },
    {
     "data": {
      "image/png": "[encoded data removed]",
      "text/plain": [
       "<matplotlib.figure.Figure at 0x7fa941c1bcf8>"
      ]
     },
     "metadata": {},
     "output_type": "display_data"
    }
   ],
   "source": [
    "logs.server.value_counts().plot.bar()"
   ]
  }
 ],
 "metadata": {
  "kernelspec": {
   "display_name": "Python 3",
   "language": "python",
   "name": "python3"
  },
  "language_info": {
   "codemirror_mode": {
    "name": "ipython",
    "version": 3
   },
   "file_extension": ".py",
   "mimetype": "text/x-python",
   "name": "python",
   "nbconvert_exporter": "python",
   "pygments_lexer": "ipython3",
   "version": "3.5.1"
  }
 },
 "nbformat": 4,
 "nbformat_minor": 0
}
